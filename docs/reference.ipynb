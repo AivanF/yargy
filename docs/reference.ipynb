{
 "cells": [
  {
   "cell_type": "markdown",
   "metadata": {},
   "source": [
    "# Справочник"
   ]
  },
  {
   "cell_type": "raw",
   "metadata": {},
   "source": [
    "В справочнике описаны детали использования основных компонент Yargy: токенизатор, газеттир, предикаты, грамматики, согласование. Чтобы получить общее представление о библиотеке, лучше обратиться к :ref:`разделу с примерами <examples>` и \":ref:`быстрому старту <start>`\"."
   ]
  },
  {
   "cell_type": "raw",
   "metadata": {},
   "source": [
    ".. _tokenizer:"
   ]
  },
  {
   "cell_type": "markdown",
   "metadata": {},
   "source": [
    "## Токенизатор"
   ]
  },
  {
   "cell_type": "markdown",
   "metadata": {},
   "source": [
    "Токенизатор реализован на регулярных выражениях. Для каждого типа токенов есть своё правило со своей регуляркой:"
   ]
  },
  {
   "cell_type": "code",
   "execution_count": 1,
   "metadata": {},
   "outputs": [
    {
     "data": {
      "text/plain": [
       "[RussianRule('[а-яё][а-яё\\\\-]*', set()),\n",
       " LatinRule(\"[a-z]\\\\-?[a-z\\\\']*\", {'LATN'}),\n",
       " IntRule('\\\\d+', {'INT', 'NUMBER'}),\n",
       " QuoteRule('[\"\\\\\\'«»„“ʼʻ”]', set()),\n",
       " PunctuationRule('[-\\\\\\\\/!#$%&()\\\\[\\\\]\\\\*\\\\+,\\\\.:;<=>?@^_`{|}~№…]', {'PUNCT'}),\n",
       " EOLRule('[\\n\\r]+', {'END-OF-LINE'}),\n",
       " OtherRule('\\\\S', {'OTHER'})]"
      ]
     },
     "execution_count": 1,
     "metadata": {},
     "output_type": "execute_result"
    }
   ],
   "source": [
    "from yargy.tokenizer import DEFAULT_RULES\n",
    "\n",
    "\n",
    "DEFAULT_RULES"
   ]
  },
  {
   "cell_type": "markdown",
   "metadata": {},
   "source": [
    "Токенизатор инициализируется списком правил. По-умолчанию — это `DEFAULT_RULES`:"
   ]
  },
  {
   "cell_type": "code",
   "execution_count": 2,
   "metadata": {},
   "outputs": [
    {
     "data": {
      "text/plain": [
       "[Token('a', (0, 1), [Form('a', {'LATN'})]),\n",
       " Token('@', (1, 2), [Form('@', {'PUNCT'})]),\n",
       " Token('mail', (2, 6), [Form('mail', {'LATN'})]),\n",
       " Token('.', (6, 7), [Form('.', {'PUNCT'})]),\n",
       " Token('ru', (7, 9), [Form('ru', {'LATN'})])]"
      ]
     },
     "execution_count": 2,
     "metadata": {},
     "output_type": "execute_result"
    }
   ],
   "source": [
    "from yargy.tokenizer import Tokenizer\n",
    "\n",
    "\n",
    "text = 'a@mail.ru'\n",
    "tokenizer = Tokenizer()\n",
    "list(tokenizer(text))"
   ]
  },
  {
   "cell_type": "markdown",
   "metadata": {},
   "source": [
    "Пользователь может убрать часть правил из списка или добавить новых:"
   ]
  },
  {
   "cell_type": "code",
   "execution_count": 3,
   "metadata": {},
   "outputs": [
    {
     "data": {
      "text/plain": [
       "[Token('a', (0, 1), [Form('a', {'LATN'})]),\n",
       " Token('mail', (2, 6), [Form('mail', {'LATN'})]),\n",
       " Token('ru', (7, 9), [Form('ru', {'LATN'})])]"
      ]
     },
     "execution_count": 3,
     "metadata": {},
     "output_type": "execute_result"
    }
   ],
   "source": [
    "from yargy.tokenizer import LatinRule\n",
    "\n",
    "\n",
    "tokenizer = Tokenizer([LatinRule()])\n",
    "list(tokenizer(text))"
   ]
  },
  {
   "cell_type": "markdown",
   "metadata": {},
   "source": [
    "Например, в Yargy есть примитивные правила для токенизации емейлов и телефонов. По-умолчанию они не используются:"
   ]
  },
  {
   "cell_type": "code",
   "execution_count": 4,
   "metadata": {},
   "outputs": [
    {
     "data": {
      "text/plain": [
       "[Token('email', (0, 5), [Form('email', {'LATN'})]),\n",
       " Token(':', (5, 6), [Form(':', {'PUNCT'})]),\n",
       " Token('ab@mail.ru', (7, 17), [Form('ab@mail.ru', {'EMAIL'})]),\n",
       " Token('call', (18, 22), [Form('call', {'LATN'})]),\n",
       " Token(':', (22, 23), [Form(':', {'PUNCT'})]),\n",
       " Token(' 8 915 132 54 76', (23, 39), [Form(' 8 915 132 54 76', {'PHONE'})])]"
      ]
     },
     "execution_count": 4,
     "metadata": {},
     "output_type": "execute_result"
    }
   ],
   "source": [
    "from yargy.tokenizer import EmailRule, PhoneRule\n",
    "\n",
    "\n",
    "text = 'email: ab@mail.ru call: 8 915 132 54 76'\n",
    "tokenizer = Tokenizer(\n",
    "    [EmailRule(), PhoneRule()]\n",
    "    + DEFAULT_RULES\n",
    ")\n",
    "list(tokenizer(text))"
   ]
  },
  {
   "cell_type": "markdown",
   "metadata": {},
   "source": [
    "Можно даже запрограммировать своё правило. Например, так выглядит простое правило для извлечения доменов:"
   ]
  },
  {
   "cell_type": "code",
   "execution_count": 5,
   "metadata": {},
   "outputs": [
    {
     "data": {
      "text/plain": [
       "[Token('www.VKontakte.ru', (0, 16), [Form('vkontakte.ru', {'DOMAIN'})])]"
      ]
     },
     "execution_count": 5,
     "metadata": {},
     "output_type": "execute_result"
    }
   ],
   "source": [
    "from yargy.tokenizer import TokenRule\n",
    "\n",
    "\n",
    "class DomainRule(TokenRule):\n",
    "    pattern = '[a-zA-Z0-9-]+\\.[a-zA-Z0-9-.]+'\n",
    "    grammemes = {'DOMAIN'}\n",
    "    \n",
    "    def normalize(self, value):\n",
    "        value = value.lower()\n",
    "        if value.startswith('www.'):\n",
    "            value = value[4:]\n",
    "        return value\n",
    "    \n",
    "    \n",
    "text = 'www.VKontakte.ru'\n",
    "tokenizer = Tokenizer(\n",
    "    [DomainRule()]\n",
    "    + DEFAULT_RULES\n",
    ")\n",
    "list(tokenizer(text))"
   ]
  },
  {
   "cell_type": "raw",
   "metadata": {},
   "source": [
    ".. _gazetter:"
   ]
  },
  {
   "cell_type": "markdown",
   "metadata": {},
   "source": [
    "## Газеттир"
   ]
  },
  {
   "cell_type": "markdown",
   "metadata": {},
   "source": [
    "В Yargy реализовано два типа газеттиров: `MorphPipeline` и `CaselessPipeline`. `MorphPipeline` перед работой приводит слова к нормальной форме:"
   ]
  },
  {
   "cell_type": "code",
   "execution_count": 6,
   "metadata": {},
   "outputs": [
    {
     "data": {
      "text/plain": [
       "[Multitoken('электронным дневником',\n",
       "            (0, 21),\n",
       "            [Form('электронный дневник', {'Type'})]),\n",
       " Token(',', (21, 22), [Form(',', {'PUNCT'})]),\n",
       " Multitoken('электронные дневники',\n",
       "            (23, 43),\n",
       "            [Form('электронный дневник', {'Type'})]),\n",
       " Token(',', (43, 44), [Form(',', {'PUNCT'})]),\n",
       " Multitoken('электронное дневнику',\n",
       "            (45, 65),\n",
       "            [Form('электронный дневник', {'Type'})])]"
      ]
     },
     "execution_count": 6,
     "metadata": {},
     "output_type": "execute_result"
    }
   ],
   "source": [
    "from yargy.pipelines import MorphPipeline\n",
    "\n",
    "\n",
    "class Pipeline(MorphPipeline):\n",
    "    grammemes = {'Type'}\n",
    "    \n",
    "    keys = [\n",
    "        'электронный дневник',\n",
    "    ]\n",
    "    \n",
    "\n",
    "tokenizer = Tokenizer()\n",
    "pipeline = Pipeline()\n",
    "text = 'электронным дневником, электронные дневники, электронное дневнику'\n",
    "list(pipeline(tokenizer(text)))"
   ]
  },
  {
   "cell_type": "markdown",
   "metadata": {},
   "source": [
    "Нужно быть аккуратным с пробелами в `keys`. Слова должны быть разделены так же, как это бы сделал токенизатор. Например, чтобы обработать \"dvd-диск\", в `keys` должно быть написано `dvd - диск`. Стандартный токенизатор Yargy разбивает \"dvd-диск\" на три токена."
   ]
  },
  {
   "cell_type": "markdown",
   "metadata": {},
   "source": [
    "`CaselessPipeline` используется, когда слова не нужно приводить к нормальной форме. Например, есть арабские имена: \"Абд Аль-Азиз Бин Мухаммад\", \"Абд ар-Рахман Наср ас-Са ди\". Их нужно обработать как есть: "
   ]
  },
  {
   "cell_type": "code",
   "execution_count": 7,
   "metadata": {},
   "outputs": [
    {
     "data": {
      "text/plain": [
       "[Multitoken('Абд Аль-Азиз Бин Мухаммад',\n",
       "            (0, 25),\n",
       "            [Form('Абд Аль-Азиз Бин Мухаммад', {'Name'})]),\n",
       " Token(',', (25, 26), [Form(',', {'PUNCT'})]),\n",
       " Multitoken('АБД АР-РАХМАН НАСР АС-СА ДИ',\n",
       "            (27, 54),\n",
       "            [Form('Абд ар-Рахман Наср ас-Са ди', {'Name'})])]"
      ]
     },
     "execution_count": 7,
     "metadata": {},
     "output_type": "execute_result"
    }
   ],
   "source": [
    "from yargy.pipelines import CaselessPipeline\n",
    "\n",
    "\n",
    "class Pipeline(CaselessPipeline):\n",
    "    grammemes = {'Name'}\n",
    "    keys = [\n",
    "        'Абд Аль-Азиз Бин Мухаммад',\n",
    "        'Абд ар-Рахман Наср ас-Са ди',\n",
    "    ]\n",
    "    \n",
    "tokenizer = Tokenizer()\n",
    "pipeline = Pipeline()\n",
    "text = 'Абд Аль-Азиз Бин Мухаммад, АБД АР-РАХМАН НАСР АС-СА ДИ'\n",
    "list(pipeline(tokenizer(text)))"
   ]
  },
  {
   "cell_type": "raw",
   "metadata": {},
   "source": [
    ".. _predicate:"
   ]
  },
  {
   "cell_type": "markdown",
   "metadata": {},
   "source": [
    "## Предикаты"
   ]
  },
  {
   "cell_type": "raw",
   "metadata": {},
   "source": [
    ".. autosummary::\n",
    "    \n",
    "   ~yargy.predicates.eq\n",
    "   ~yargy.predicates.caseless\n",
    "   ~yargy.predicates.in_\n",
    "   ~yargy.predicates.gte\n",
    "   ~yargy.predicates.lte\n",
    "   ~yargy.predicates.length_eq\n",
    "   ~yargy.predicates.normalized\n",
    "   ~yargy.predicates.dictionary\n",
    "   ~yargy.predicates.gram\n",
    "   ~yargy.predicates.custom\n",
    "   ~yargy.predicates.true\n",
    "   ~yargy.predicates.is_lower\n",
    "   ~yargy.predicates.is_upper\n",
    "   ~yargy.predicates.is_title\n",
    "   ~yargy.predicates.is_capitalized\n",
    "   ~yargy.predicates.is_single\n",
    "\n",
    "\n",
    ".. autoclass:: yargy.predicates.eq\n",
    ".. autoclass:: yargy.predicates.caseless\n",
    ".. autoclass:: yargy.predicates.in_\n",
    ".. autoclass:: yargy.predicates.gte\n",
    ".. autoclass:: yargy.predicates.lte\n",
    ".. autoclass:: yargy.predicates.length_eq\n",
    ".. autoclass:: yargy.predicates.normalized\n",
    ".. autoclass:: yargy.predicates.dictionary\n",
    ".. autoclass:: yargy.predicates.gram\n",
    ".. autoclass:: yargy.predicates.custom\n",
    ".. autoclass:: yargy.predicates.true\n",
    ".. autoclass:: yargy.predicates.is_lower\n",
    ".. autoclass:: yargy.predicates.is_upper\n",
    ".. autoclass:: yargy.predicates.is_title\n",
    ".. autoclass:: yargy.predicates.is_capitalized\n",
    ".. autoclass:: yargy.predicates.is_single"
   ]
  },
  {
   "cell_type": "raw",
   "metadata": {},
   "source": [
    ".. _interpretation:"
   ]
  },
  {
   "cell_type": "markdown",
   "metadata": {},
   "source": [
    "## Интерпретация"
   ]
  },
  {
   "cell_type": "markdown",
   "metadata": {},
   "source": [
    "Схема объекта, который получается в результате интерпретации описывается конструктором `fact`. Чтобы задать значение поля по-умолчанию, используется метод `attribute`. Например, в `Date` по-умолчанию год будет равен 2017:"
   ]
  },
  {
   "cell_type": "code",
   "execution_count": 8,
   "metadata": {},
   "outputs": [
    {
     "data": {
      "text/plain": [
       "Date(year=2016,\n",
       "     month='июля',\n",
       "     day=18)"
      ]
     },
     "metadata": {},
     "output_type": "display_data"
    },
    {
     "data": {
      "text/plain": [
       "Date(year=2017,\n",
       "     month='марта',\n",
       "     day=15)"
      ]
     },
     "metadata": {},
     "output_type": "display_data"
    }
   ],
   "source": [
    "from IPython.display import display\n",
    "from yargy import Parser, rule, fact, attribute, and_, or_\n",
    "from yargy.predicates import dictionary, gte, lte\n",
    "\n",
    "\n",
    "Date = fact(\n",
    "    'Date',\n",
    "    [attribute('year', 2017), 'month', 'day']\n",
    ")\n",
    "\n",
    "\n",
    "MONTHS = {\n",
    "    'январь',\n",
    "    'февраль',\n",
    "    'март',\n",
    "    'апрель',\n",
    "    'мая',\n",
    "    'июнь',\n",
    "    'июль',\n",
    "    'август',\n",
    "    'сентябрь',\n",
    "    'октябрь',\n",
    "    'ноябрь',\n",
    "    'декабрь'\n",
    "}\n",
    "\n",
    "\n",
    "MONTH_NAME = dictionary(MONTHS)\n",
    "DAY = and_(\n",
    "    gte(1),\n",
    "    lte(31)\n",
    ")\n",
    "YEAR = and_(\n",
    "    gte(1900),\n",
    "    lte(2100)\n",
    ")\n",
    "DATE = rule(\n",
    "    DAY.interpretation(\n",
    "        Date.day\n",
    "    ),\n",
    "    MONTH_NAME.interpretation(\n",
    "        Date.month\n",
    "    ),\n",
    "    YEAR.interpretation(\n",
    "        Date.year\n",
    "    ).optional()\n",
    ").interpretation(\n",
    "    Date\n",
    ")\n",
    "\n",
    "\n",
    "text = '''18 июля 2016\n",
    "15 марта\n",
    "'''\n",
    "parser = Parser(DATE)\n",
    "for line in text.splitlines():\n",
    "    match = next(parser.match(line))\n",
    "    display(match.fact)"
   ]
  },
  {
   "cell_type": "markdown",
   "metadata": {},
   "source": [
    "Для дат деревья разбора выглядят просто: вершина-конструктор и несколько детей-атрибутов:"
   ]
  },
  {
   "cell_type": "code",
   "execution_count": 9,
   "metadata": {},
   "outputs": [
    {
     "data": {
      "image/svg+xml": [
       "<?xml version=\"1.0\" encoding=\"UTF-8\" standalone=\"no\"?>\n",
       "<!DOCTYPE svg PUBLIC \"-//W3C//DTD SVG 1.1//EN\"\n",
       " \"http://www.w3.org/Graphics/SVG/1.1/DTD/svg11.dtd\">\n",
       "<!-- Generated by graphviz version 2.40.1 (20161225.0304)\n",
       " -->\n",
       "<!-- Title: 4380875520 Pages: 1 -->\n",
       "<svg width=\"194pt\" height=\"78pt\"\n",
       " viewBox=\"0.00 0.00 193.69 78.00\" xmlns=\"http://www.w3.org/2000/svg\" xmlns:xlink=\"http://www.w3.org/1999/xlink\">\n",
       "<g id=\"graph0\" class=\"graph\" transform=\"scale(1 1) rotate(0) translate(4 74)\">\n",
       "<title>4380875520</title>\n",
       "<polygon fill=\"#ffffff\" stroke=\"transparent\" points=\"-4,4 -4,-74 189.6895,-74 189.6895,4 -4,4\"/>\n",
       "<!-- 4380874960 -->\n",
       "<g id=\"node1\" class=\"node\">\n",
       "<title>4380874960</title>\n",
       "<polygon fill=\"#dbdb8d\" stroke=\"transparent\" points=\"109.6355,-70 72.389,-70 72.389,-52 109.6355,-52 109.6355,-70\"/>\n",
       "<text text-anchor=\"middle\" x=\"91.0122\" y=\"-58\" font-family=\"sans\" font-size=\"10.00\" fill=\"#000000\">Date</text>\n",
       "</g>\n",
       "<!-- 4381070784 -->\n",
       "<g id=\"node2\" class=\"node\">\n",
       "<title>4381070784</title>\n",
       "<polygon fill=\"#dbdb8d\" stroke=\"transparent\" points=\"56.0366,-44 -.0122,-44 -.0122,-26 56.0366,-26 56.0366,-44\"/>\n",
       "<text text-anchor=\"middle\" x=\"28.0122\" y=\"-32\" font-family=\"sans\" font-size=\"10.00\" fill=\"#000000\">Date.day</text>\n",
       "</g>\n",
       "<!-- 4380874960&#45;&gt;4381070784 -->\n",
       "<g id=\"edge1\" class=\"edge\">\n",
       "<title>4380874960&#45;&gt;4381070784</title>\n",
       "<path fill=\"none\" stroke=\"#c0c0c0\" d=\"M72.1101,-53.1991C66.1298,-50.7311 59.4242,-47.9637 53.0819,-45.3462\"/>\n",
       "<polygon fill=\"#c0c0c0\" stroke=\"#c0c0c0\" points=\"53.176,-44.2492 50.0023,-44.0753 52.3749,-46.1904 53.176,-44.2492\"/>\n",
       "</g>\n",
       "<!-- 4381070952 -->\n",
       "<g id=\"node4\" class=\"node\">\n",
       "<title>4381070952</title>\n",
       "<polygon fill=\"#dbdb8d\" stroke=\"transparent\" points=\"124.7072,-44 57.3172,-44 57.3172,-26 124.7072,-26 124.7072,-44\"/>\n",
       "<text text-anchor=\"middle\" x=\"91.0122\" y=\"-32\" font-family=\"sans\" font-size=\"10.00\" fill=\"#000000\">Date.month</text>\n",
       "</g>\n",
       "<!-- 4380874960&#45;&gt;4381070952 -->\n",
       "<g id=\"edge2\" class=\"edge\">\n",
       "<title>4380874960&#45;&gt;4381070952</title>\n",
       "<path fill=\"none\" stroke=\"#c0c0c0\" d=\"M91.0122,-51.9065C91.0122,-50.5226 91.0122,-49.0737 91.0122,-47.6308\"/>\n",
       "<polygon fill=\"#c0c0c0\" stroke=\"#c0c0c0\" points=\"92.0623,-47.3085 91.0122,-44.3086 89.9623,-47.3086 92.0623,-47.3085\"/>\n",
       "</g>\n",
       "<!-- 4381069384 -->\n",
       "<g id=\"node6\" class=\"node\">\n",
       "<title>4381069384</title>\n",
       "<polygon fill=\"#dbdb8d\" stroke=\"transparent\" points=\"185.8678,-44 126.1566,-44 126.1566,-26 185.8678,-26 185.8678,-44\"/>\n",
       "<text text-anchor=\"middle\" x=\"156.0122\" y=\"-32\" font-family=\"sans\" font-size=\"10.00\" fill=\"#000000\">Date.year</text>\n",
       "</g>\n",
       "<!-- 4380874960&#45;&gt;4381069384 -->\n",
       "<g id=\"edge3\" class=\"edge\">\n",
       "<title>4380874960&#45;&gt;4381069384</title>\n",
       "<path fill=\"none\" stroke=\"#c0c0c0\" d=\"M109.8129,-53.4797C116.2431,-50.9076 123.5491,-47.9852 130.4227,-45.2358\"/>\n",
       "<polygon fill=\"#c0c0c0\" stroke=\"#c0c0c0\" points=\"130.9428,-46.1587 133.3383,-44.0696 130.1628,-44.2089 130.9428,-46.1587\"/>\n",
       "</g>\n",
       "<!-- 4381069944 -->\n",
       "<g id=\"node3\" class=\"node\">\n",
       "<title>4381069944</title>\n",
       "<polygon fill=\"#eeeeee\" stroke=\"transparent\" points=\"41.6355,-18 14.3889,-18 14.3889,0 41.6355,0 41.6355,-18\"/>\n",
       "<text text-anchor=\"middle\" x=\"28.0122\" y=\"-6\" font-family=\"sans\" font-size=\"10.00\" fill=\"#000000\">18</text>\n",
       "</g>\n",
       "<!-- 4381070784&#45;&gt;4381069944 -->\n",
       "<g id=\"edge4\" class=\"edge\">\n",
       "<title>4381070784&#45;&gt;4381069944</title>\n",
       "<path fill=\"none\" stroke=\"#c0c0c0\" d=\"M28.0122,-25.9065C28.0122,-24.5226 28.0122,-23.0737 28.0122,-21.6308\"/>\n",
       "<polygon fill=\"#c0c0c0\" stroke=\"#c0c0c0\" points=\"29.0623,-21.3085 28.0122,-18.3086 26.9623,-21.3086 29.0623,-21.3085\"/>\n",
       "</g>\n",
       "<!-- 4381071904 -->\n",
       "<g id=\"node5\" class=\"node\">\n",
       "<title>4381071904</title>\n",
       "<polygon fill=\"#eeeeee\" stroke=\"transparent\" points=\"111.4488,-18 70.5756,-18 70.5756,0 111.4488,0 111.4488,-18\"/>\n",
       "<text text-anchor=\"middle\" x=\"91.0122\" y=\"-6\" font-family=\"sans\" font-size=\"10.00\" fill=\"#000000\">июля</text>\n",
       "</g>\n",
       "<!-- 4381070952&#45;&gt;4381071904 -->\n",
       "<g id=\"edge5\" class=\"edge\">\n",
       "<title>4381070952&#45;&gt;4381071904</title>\n",
       "<path fill=\"none\" stroke=\"#c0c0c0\" d=\"M91.0122,-25.9065C91.0122,-24.5226 91.0122,-23.0737 91.0122,-21.6308\"/>\n",
       "<polygon fill=\"#c0c0c0\" stroke=\"#c0c0c0\" points=\"92.0623,-21.3085 91.0122,-18.3086 89.9623,-21.3086 92.0623,-21.3085\"/>\n",
       "</g>\n",
       "<!-- 4381073080 -->\n",
       "<g id=\"node7\" class=\"node\">\n",
       "<title>4381073080</title>\n",
       "<polygon fill=\"#eeeeee\" stroke=\"transparent\" points=\"175.2591,-18 136.7653,-18 136.7653,0 175.2591,0 175.2591,-18\"/>\n",
       "<text text-anchor=\"middle\" x=\"156.0122\" y=\"-6\" font-family=\"sans\" font-size=\"10.00\" fill=\"#000000\">2016</text>\n",
       "</g>\n",
       "<!-- 4381069384&#45;&gt;4381073080 -->\n",
       "<g id=\"edge6\" class=\"edge\">\n",
       "<title>4381069384&#45;&gt;4381073080</title>\n",
       "<path fill=\"none\" stroke=\"#c0c0c0\" d=\"M156.0122,-25.9065C156.0122,-24.5226 156.0122,-23.0737 156.0122,-21.6308\"/>\n",
       "<polygon fill=\"#c0c0c0\" stroke=\"#c0c0c0\" points=\"157.0623,-21.3085 156.0122,-18.3086 154.9623,-21.3086 157.0623,-21.3085\"/>\n",
       "</g>\n",
       "</g>\n",
       "</svg>\n"
      ],
      "text/plain": [
       "Graph([Node(4380874960, style({'fillcolor': '#dbdb8d', 'label': 'Date'})),\n",
       "       Node(4381070784, style({'fillcolor': '#dbdb8d', 'label': 'Date.day'})),\n",
       "       Node(4381069944, style({'label': 18})),\n",
       "       Node(4381070952,\n",
       "            style({'fillcolor': '#dbdb8d', 'label': 'Date.month'})),\n",
       "       Node(4381071904, style({'label': 'июля'})),\n",
       "       Node(4381069384, style({'fillcolor': '#dbdb8d', 'label': 'Date.year'})),\n",
       "       Node(4381073080, style({'label': 2016}))],\n",
       "      [Edge(4380874960, 4381070784),\n",
       "       Edge(4380874960, 4381070952),\n",
       "       Edge(4380874960, 4381069384),\n",
       "       Edge(4381070784, 4381069944),\n",
       "       Edge(4381070952, 4381071904),\n",
       "       Edge(4381069384, 4381073080)])"
      ]
     },
     "metadata": {},
     "output_type": "display_data"
    },
    {
     "data": {
      "image/svg+xml": [
       "<?xml version=\"1.0\" encoding=\"UTF-8\" standalone=\"no\"?>\n",
       "<!DOCTYPE svg PUBLIC \"-//W3C//DTD SVG 1.1//EN\"\n",
       " \"http://www.w3.org/Graphics/SVG/1.1/DTD/svg11.dtd\">\n",
       "<!-- Generated by graphviz version 2.40.1 (20161225.0304)\n",
       " -->\n",
       "<!-- Title: 4380874792 Pages: 1 -->\n",
       "<svg width=\"133pt\" height=\"78pt\"\n",
       " viewBox=\"0.00 0.00 132.86 78.00\" xmlns=\"http://www.w3.org/2000/svg\" xmlns:xlink=\"http://www.w3.org/1999/xlink\">\n",
       "<g id=\"graph0\" class=\"graph\" transform=\"scale(1 1) rotate(0) translate(4 74)\">\n",
       "<title>4380874792</title>\n",
       "<polygon fill=\"#ffffff\" stroke=\"transparent\" points=\"-4,4 -4,-74 128.8594,-74 128.8594,4 -4,4\"/>\n",
       "<!-- 4381073304 -->\n",
       "<g id=\"node1\" class=\"node\">\n",
       "<title>4381073304</title>\n",
       "<polygon fill=\"#dbdb8d\" stroke=\"transparent\" points=\"77.6355,-70 40.389,-70 40.389,-52 77.6355,-52 77.6355,-70\"/>\n",
       "<text text-anchor=\"middle\" x=\"59.0122\" y=\"-58\" font-family=\"sans\" font-size=\"10.00\" fill=\"#000000\">Date</text>\n",
       "</g>\n",
       "<!-- 4381069944 -->\n",
       "<g id=\"node2\" class=\"node\">\n",
       "<title>4381069944</title>\n",
       "<polygon fill=\"#dbdb8d\" stroke=\"transparent\" points=\"56.0366,-44 -.0122,-44 -.0122,-26 56.0366,-26 56.0366,-44\"/>\n",
       "<text text-anchor=\"middle\" x=\"28.0122\" y=\"-32\" font-family=\"sans\" font-size=\"10.00\" fill=\"#000000\">Date.day</text>\n",
       "</g>\n",
       "<!-- 4381073304&#45;&gt;4381069944 -->\n",
       "<g id=\"edge1\" class=\"edge\">\n",
       "<title>4381073304&#45;&gt;4381069944</title>\n",
       "<path fill=\"none\" stroke=\"#c0c0c0\" d=\"M48.1699,-51.9065C46.0616,-50.1382 43.8266,-48.2637 41.6419,-46.4313\"/>\n",
       "<polygon fill=\"#c0c0c0\" stroke=\"#c0c0c0\" points=\"42.0842,-45.4319 39.1109,-44.3086 40.7347,-47.041 42.0842,-45.4319\"/>\n",
       "</g>\n",
       "<!-- 4381071904 -->\n",
       "<g id=\"node4\" class=\"node\">\n",
       "<title>4381071904</title>\n",
       "<polygon fill=\"#dbdb8d\" stroke=\"transparent\" points=\"124.7072,-44 57.3172,-44 57.3172,-26 124.7072,-26 124.7072,-44\"/>\n",
       "<text text-anchor=\"middle\" x=\"91.0122\" y=\"-32\" font-family=\"sans\" font-size=\"10.00\" fill=\"#000000\">Date.month</text>\n",
       "</g>\n",
       "<!-- 4381073304&#45;&gt;4381071904 -->\n",
       "<g id=\"edge2\" class=\"edge\">\n",
       "<title>4381073304&#45;&gt;4381071904</title>\n",
       "<path fill=\"none\" stroke=\"#c0c0c0\" d=\"M70.2043,-51.9065C72.3806,-50.1382 74.6877,-48.2637 76.9429,-46.4313\"/>\n",
       "<polygon fill=\"#c0c0c0\" stroke=\"#c0c0c0\" points=\"77.8893,-47.0153 79.5555,-44.3086 76.565,-45.3855 77.8893,-47.0153\"/>\n",
       "</g>\n",
       "<!-- 4381072184 -->\n",
       "<g id=\"node3\" class=\"node\">\n",
       "<title>4381072184</title>\n",
       "<polygon fill=\"#eeeeee\" stroke=\"transparent\" points=\"41.6355,-18 14.3889,-18 14.3889,0 41.6355,0 41.6355,-18\"/>\n",
       "<text text-anchor=\"middle\" x=\"28.0122\" y=\"-6\" font-family=\"sans\" font-size=\"10.00\" fill=\"#000000\">15</text>\n",
       "</g>\n",
       "<!-- 4381069944&#45;&gt;4381072184 -->\n",
       "<g id=\"edge3\" class=\"edge\">\n",
       "<title>4381069944&#45;&gt;4381072184</title>\n",
       "<path fill=\"none\" stroke=\"#c0c0c0\" d=\"M28.0122,-25.9065C28.0122,-24.5226 28.0122,-23.0737 28.0122,-21.6308\"/>\n",
       "<polygon fill=\"#c0c0c0\" stroke=\"#c0c0c0\" points=\"29.0623,-21.3085 28.0122,-18.3086 26.9623,-21.3086 29.0623,-21.3085\"/>\n",
       "</g>\n",
       "<!-- 4381071400 -->\n",
       "<g id=\"node5\" class=\"node\">\n",
       "<title>4381071400</title>\n",
       "<polygon fill=\"#eeeeee\" stroke=\"transparent\" points=\"113.3583,-18 68.6661,-18 68.6661,0 113.3583,0 113.3583,-18\"/>\n",
       "<text text-anchor=\"middle\" x=\"91.0122\" y=\"-6\" font-family=\"sans\" font-size=\"10.00\" fill=\"#000000\">марта</text>\n",
       "</g>\n",
       "<!-- 4381071904&#45;&gt;4381071400 -->\n",
       "<g id=\"edge4\" class=\"edge\">\n",
       "<title>4381071904&#45;&gt;4381071400</title>\n",
       "<path fill=\"none\" stroke=\"#c0c0c0\" d=\"M91.0122,-25.9065C91.0122,-24.5226 91.0122,-23.0737 91.0122,-21.6308\"/>\n",
       "<polygon fill=\"#c0c0c0\" stroke=\"#c0c0c0\" points=\"92.0623,-21.3085 91.0122,-18.3086 89.9623,-21.3086 92.0623,-21.3085\"/>\n",
       "</g>\n",
       "</g>\n",
       "</svg>\n"
      ],
      "text/plain": [
       "Graph([Node(4381073304, style({'fillcolor': '#dbdb8d', 'label': 'Date'})),\n",
       "       Node(4381069944, style({'fillcolor': '#dbdb8d', 'label': 'Date.day'})),\n",
       "       Node(4381072184, style({'label': 15})),\n",
       "       Node(4381071904,\n",
       "            style({'fillcolor': '#dbdb8d', 'label': 'Date.month'})),\n",
       "       Node(4381071400, style({'label': 'марта'}))],\n",
       "      [Edge(4381073304, 4381069944),\n",
       "       Edge(4381073304, 4381071904),\n",
       "       Edge(4381069944, 4381072184),\n",
       "       Edge(4381071904, 4381071400)])"
      ]
     },
     "metadata": {},
     "output_type": "display_data"
    }
   ],
   "source": [
    "parser = Parser(DATE)\n",
    "for line in text.splitlines():\n",
    "    match = next(parser.match(line))\n",
    "    display(match.tree.normalized.as_dot)"
   ]
  },
  {
   "cell_type": "markdown",
   "metadata": {},
   "source": [
    "Как будет себя вести алгоритм интерпретации, когда ребёнок конструктора не атрибут, а другой конструктор? Или когда ребёнок атрибута другой атрибут? Или когда под конструктором или атрибутом не одна, а несколько вершин с токенами? Пойдём от простого к сложному. Когда под вершиной-атрибутом несколько токенов, они объединяются:"
   ]
  },
  {
   "cell_type": "code",
   "execution_count": 10,
   "metadata": {},
   "outputs": [
    {
     "data": {
      "image/svg+xml": [
       "<?xml version=\"1.0\" encoding=\"UTF-8\" standalone=\"no\"?>\n",
       "<!DOCTYPE svg PUBLIC \"-//W3C//DTD SVG 1.1//EN\"\n",
       " \"http://www.w3.org/Graphics/SVG/1.1/DTD/svg11.dtd\">\n",
       "<!-- Generated by graphviz version 2.40.1 (20161225.0304)\n",
       " -->\n",
       "<!-- Title: 4381072688 Pages: 1 -->\n",
       "<svg width=\"167pt\" height=\"78pt\"\n",
       " viewBox=\"0.00 0.00 167.18 78.00\" xmlns=\"http://www.w3.org/2000/svg\" xmlns:xlink=\"http://www.w3.org/1999/xlink\">\n",
       "<g id=\"graph0\" class=\"graph\" transform=\"scale(1 1) rotate(0) translate(4 74)\">\n",
       "<title>4381072688</title>\n",
       "<polygon fill=\"#ffffff\" stroke=\"transparent\" points=\"-4,4 -4,-74 163.1812,-74 163.1812,4 -4,4\"/>\n",
       "<!-- 4381150344 -->\n",
       "<g id=\"node1\" class=\"node\">\n",
       "<title>4381150344</title>\n",
       "<polygon fill=\"#dbdb8d\" stroke=\"transparent\" points=\"98.9956,-70 52.9663,-70 52.9663,-52 98.9956,-52 98.9956,-70\"/>\n",
       "<text text-anchor=\"middle\" x=\"75.981\" y=\"-58\" font-family=\"sans\" font-size=\"10.00\" fill=\"#000000\">Money</text>\n",
       "</g>\n",
       "<!-- 4381150400 -->\n",
       "<g id=\"node2\" class=\"node\">\n",
       "<title>4381150400</title>\n",
       "<polygon fill=\"#dbdb8d\" stroke=\"transparent\" points=\"71.9429,-44 .019,-44 .019,-26 71.9429,-26 71.9429,-44\"/>\n",
       "<text text-anchor=\"middle\" x=\"35.981\" y=\"-32\" font-family=\"sans\" font-size=\"10.00\" fill=\"#000000\">Money.value</text>\n",
       "</g>\n",
       "<!-- 4381150344&#45;&gt;4381150400 -->\n",
       "<g id=\"edge1\" class=\"edge\">\n",
       "<title>4381150344&#45;&gt;4381150400</title>\n",
       "<path fill=\"none\" stroke=\"#c0c0c0\" d=\"M61.9909,-51.9065C58.9636,-49.9387 55.7337,-47.8393 52.6162,-45.8129\"/>\n",
       "<polygon fill=\"#c0c0c0\" stroke=\"#c0c0c0\" points=\"53.1183,-44.887 50.0307,-44.1324 51.9738,-46.6477 53.1183,-44.887\"/>\n",
       "</g>\n",
       "<!-- 4381150568 -->\n",
       "<g id=\"node5\" class=\"node\">\n",
       "<title>4381150568</title>\n",
       "<polygon fill=\"#dbdb8d\" stroke=\"transparent\" points=\"159.3823,-44 72.5796,-44 72.5796,-26 159.3823,-26 159.3823,-44\"/>\n",
       "<text text-anchor=\"middle\" x=\"115.981\" y=\"-32\" font-family=\"sans\" font-size=\"10.00\" fill=\"#000000\">Money.currency</text>\n",
       "</g>\n",
       "<!-- 4381150344&#45;&gt;4381150568 -->\n",
       "<g id=\"edge2\" class=\"edge\">\n",
       "<title>4381150344&#45;&gt;4381150568</title>\n",
       "<path fill=\"none\" stroke=\"#c0c0c0\" d=\"M89.971,-51.9065C92.9983,-49.9387 96.2282,-47.8393 99.3458,-45.8129\"/>\n",
       "<polygon fill=\"#c0c0c0\" stroke=\"#c0c0c0\" points=\"99.9881,-46.6477 101.9312,-44.1324 98.8436,-44.887 99.9881,-46.6477\"/>\n",
       "</g>\n",
       "<!-- 4381150456 -->\n",
       "<g id=\"node3\" class=\"node\">\n",
       "<title>4381150456</title>\n",
       "<polygon fill=\"#eeeeee\" stroke=\"transparent\" points=\"29.5469,-18 8.4151,-18 8.4151,0 29.5469,0 29.5469,-18\"/>\n",
       "<text text-anchor=\"middle\" x=\"18.981\" y=\"-6\" font-family=\"sans\" font-size=\"10.00\" fill=\"#000000\">5</text>\n",
       "</g>\n",
       "<!-- 4381150400&#45;&gt;4381150456 -->\n",
       "<g id=\"edge3\" class=\"edge\">\n",
       "<title>4381150400&#45;&gt;4381150456</title>\n",
       "<path fill=\"none\" stroke=\"#c0c0c0\" d=\"M30.0352,-25.9065C29.0298,-24.3689 27.9719,-22.7509 26.9253,-21.1502\"/>\n",
       "<polygon fill=\"#c0c0c0\" stroke=\"#c0c0c0\" points=\"27.5879,-20.2449 25.0673,-18.3086 25.8303,-21.3941 27.5879,-20.2449\"/>\n",
       "</g>\n",
       "<!-- 4381150512 -->\n",
       "<g id=\"node4\" class=\"node\">\n",
       "<title>4381150512</title>\n",
       "<polygon fill=\"#eeeeee\" stroke=\"transparent\" points=\"75.1649,-18 30.797,-18 30.797,0 75.1649,0 75.1649,-18\"/>\n",
       "<text text-anchor=\"middle\" x=\"52.981\" y=\"-6\" font-family=\"sans\" font-size=\"10.00\" fill=\"#000000\">тысяч</text>\n",
       "</g>\n",
       "<!-- 4381150400&#45;&gt;4381150512 -->\n",
       "<g id=\"edge4\" class=\"edge\">\n",
       "<title>4381150400&#45;&gt;4381150512</title>\n",
       "<path fill=\"none\" stroke=\"#c0c0c0\" d=\"M41.9267,-25.9065C42.9321,-24.3689 43.99,-22.7509 45.0366,-21.1502\"/>\n",
       "<polygon fill=\"#c0c0c0\" stroke=\"#c0c0c0\" points=\"46.1316,-21.3941 46.8946,-18.3086 44.374,-20.2449 46.1316,-21.3941\"/>\n",
       "</g>\n",
       "<!-- 4381150624 -->\n",
       "<g id=\"node6\" class=\"node\">\n",
       "<title>4381150624</title>\n",
       "<polygon fill=\"#eeeeee\" stroke=\"transparent\" points=\"126.5469,-18 105.4151,-18 105.4151,0 126.5469,0 126.5469,-18\"/>\n",
       "<text text-anchor=\"middle\" x=\"115.981\" y=\"-6\" font-family=\"sans\" font-size=\"10.00\" fill=\"#000000\">$</text>\n",
       "</g>\n",
       "<!-- 4381150568&#45;&gt;4381150624 -->\n",
       "<g id=\"edge5\" class=\"edge\">\n",
       "<title>4381150568&#45;&gt;4381150624</title>\n",
       "<path fill=\"none\" stroke=\"#c0c0c0\" d=\"M115.981,-25.9065C115.981,-24.5226 115.981,-23.0737 115.981,-21.6308\"/>\n",
       "<polygon fill=\"#c0c0c0\" stroke=\"#c0c0c0\" points=\"117.031,-21.3085 115.981,-18.3086 114.931,-21.3086 117.031,-21.3085\"/>\n",
       "</g>\n",
       "</g>\n",
       "</svg>\n"
      ],
      "text/plain": [
       "Graph([Node(4381150344, style({'fillcolor': '#dbdb8d', 'label': 'Money'})),\n",
       "       Node(4381150400,\n",
       "            style({'fillcolor': '#dbdb8d', 'label': 'Money.value'})),\n",
       "       Node(4381150456, style({'label': 5})),\n",
       "       Node(4381150512, style({'label': 'тысяч'})),\n",
       "       Node(4381150568,\n",
       "            style({'fillcolor': '#dbdb8d', 'label': 'Money.currency'})),\n",
       "       Node(4381150624, style({'label': '$'}))],\n",
       "      [Edge(4381150344, 4381150400),\n",
       "       Edge(4381150344, 4381150568),\n",
       "       Edge(4381150400, 4381150456),\n",
       "       Edge(4381150400, 4381150512),\n",
       "       Edge(4381150568, 4381150624)])"
      ]
     },
     "execution_count": 10,
     "metadata": {},
     "output_type": "execute_result"
    }
   ],
   "source": [
    "from yargy.predicates import eq, gram, dictionary\n",
    "\n",
    "\n",
    "Money = fact(\n",
    "    'Money',\n",
    "    ['value', 'currency']\n",
    ")\n",
    "MONEY = rule(\n",
    "    rule(\n",
    "        gram('INT'),\n",
    "        dictionary({\n",
    "            'тысяча',\n",
    "            'миллион'\n",
    "        })\n",
    "    ).interpretation(\n",
    "        Money.value\n",
    "    ),\n",
    "    eq('$').interpretation(\n",
    "        Money.currency\n",
    "    )\n",
    ").interpretation(\n",
    "    Money\n",
    ")\n",
    "\n",
    "parser = Parser(MONEY)\n",
    "match = next(parser.match('5 тысяч$'))\n",
    "match.tree.as_dot"
   ]
  },
  {
   "cell_type": "markdown",
   "metadata": {},
   "source": [
    "В `Money.value` будет два слова:"
   ]
  },
  {
   "cell_type": "code",
   "execution_count": 11,
   "metadata": {},
   "outputs": [
    {
     "data": {
      "text/plain": [
       "Money(value='5 тысяч',\n",
       "      currency='$')"
      ]
     },
     "execution_count": 11,
     "metadata": {},
     "output_type": "execute_result"
    }
   ],
   "source": [
    "match.fact"
   ]
  },
  {
   "cell_type": "markdown",
   "metadata": {},
   "source": [
    "Получить доступ к исходным токенам можно через атрибут `raw`:"
   ]
  },
  {
   "cell_type": "code",
   "execution_count": 12,
   "metadata": {
    "scrolled": true
   },
   "outputs": [
    {
     "data": {
      "text/plain": [
       "Chain([NormalizedToken(RawNormalizer(),\n",
       "                       Token(5, (0, 1), [Form(5, {'INT', 'NUMBER'})])),\n",
       "       NormalizedToken(RawNormalizer(),\n",
       "                       Token('тысяч',\n",
       "                             (2, 7),\n",
       "                             [Form('тысяча',\n",
       "                                   {'NOUN',\n",
       "                                    'femn',\n",
       "                                    'gent',\n",
       "                                    'inan',\n",
       "                                    'plur'})]))])"
      ]
     },
     "execution_count": 12,
     "metadata": {},
     "output_type": "execute_result"
    }
   ],
   "source": [
    "match.fact.raw.value"
   ]
  },
  {
   "cell_type": "markdown",
   "metadata": {},
   "source": [
    "Когда под вершиной-атрибутом смесь из токенов и вершин-конструктов, они объединяются в список, а не строку:"
   ]
  },
  {
   "cell_type": "code",
   "execution_count": 13,
   "metadata": {},
   "outputs": [
    {
     "data": {
      "image/svg+xml": [
       "<?xml version=\"1.0\" encoding=\"UTF-8\" standalone=\"no\"?>\n",
       "<!DOCTYPE svg PUBLIC \"-//W3C//DTD SVG 1.1//EN\"\n",
       " \"http://www.w3.org/Graphics/SVG/1.1/DTD/svg11.dtd\">\n",
       "<!-- Generated by graphviz version 2.40.1 (20161225.0304)\n",
       " -->\n",
       "<!-- Title: 4381150512 Pages: 1 -->\n",
       "<svg width=\"59pt\" height=\"130pt\"\n",
       " viewBox=\"0.00 0.00 58.56 130.00\" xmlns=\"http://www.w3.org/2000/svg\" xmlns:xlink=\"http://www.w3.org/1999/xlink\">\n",
       "<g id=\"graph0\" class=\"graph\" transform=\"scale(1 1) rotate(0) translate(4 126)\">\n",
       "<title>4381150512</title>\n",
       "<polygon fill=\"#ffffff\" stroke=\"transparent\" points=\"-4,4 -4,-126 54.5591,-126 54.5591,4 -4,4\"/>\n",
       "<!-- 4381188952 -->\n",
       "<g id=\"node1\" class=\"node\">\n",
       "<title>4381188952</title>\n",
       "<polygon fill=\"#dbdb8d\" stroke=\"transparent\" points=\"34.5073,-122 12.1627,-122 12.1627,-104 34.5073,-104 34.5073,-122\"/>\n",
       "<text text-anchor=\"middle\" x=\"23.335\" y=\"-110\" font-family=\"sans\" font-size=\"10.00\" fill=\"#000000\">A</text>\n",
       "</g>\n",
       "<!-- 4381189008 -->\n",
       "<g id=\"node2\" class=\"node\">\n",
       "<title>4381189008</title>\n",
       "<polygon fill=\"#dbdb8d\" stroke=\"transparent\" points=\"38.7866,-96 7.8834,-96 7.8834,-78 38.7866,-78 38.7866,-96\"/>\n",
       "<text text-anchor=\"middle\" x=\"23.335\" y=\"-84\" font-family=\"sans\" font-size=\"10.00\" fill=\"#000000\">A.x</text>\n",
       "</g>\n",
       "<!-- 4381188952&#45;&gt;4381189008 -->\n",
       "<g id=\"edge1\" class=\"edge\">\n",
       "<title>4381188952&#45;&gt;4381189008</title>\n",
       "<path fill=\"none\" stroke=\"#c0c0c0\" d=\"M23.335,-103.9065C23.335,-102.5226 23.335,-101.0737 23.335,-99.6308\"/>\n",
       "<polygon fill=\"#c0c0c0\" stroke=\"#c0c0c0\" points=\"24.3851,-99.3085 23.335,-96.3086 22.2851,-99.3086 24.3851,-99.3085\"/>\n",
       "</g>\n",
       "<!-- 4381189064 -->\n",
       "<g id=\"node3\" class=\"node\">\n",
       "<title>4381189064</title>\n",
       "<polygon fill=\"#eeeeee\" stroke=\"transparent\" points=\"22.5073,-70 .1627,-70 .1627,-52 22.5073,-52 22.5073,-70\"/>\n",
       "<text text-anchor=\"middle\" x=\"11.335\" y=\"-58\" font-family=\"sans\" font-size=\"10.00\" fill=\"#000000\">X</text>\n",
       "</g>\n",
       "<!-- 4381189008&#45;&gt;4381189064 -->\n",
       "<g id=\"edge2\" class=\"edge\">\n",
       "<title>4381189008&#45;&gt;4381189064</title>\n",
       "<path fill=\"none\" stroke=\"#c0c0c0\" d=\"M19.1379,-77.9065C18.4283,-76.3689 17.6815,-74.7509 16.9427,-73.1502\"/>\n",
       "<polygon fill=\"#c0c0c0\" stroke=\"#c0c0c0\" points=\"17.8418,-72.5924 15.6312,-70.3086 15.9351,-73.4725 17.8418,-72.5924\"/>\n",
       "</g>\n",
       "<!-- 4381189120 -->\n",
       "<g id=\"node4\" class=\"node\">\n",
       "<title>4381189120</title>\n",
       "<polygon fill=\"#dbdb8d\" stroke=\"transparent\" points=\"46.5073,-70 24.1627,-70 24.1627,-52 46.5073,-52 46.5073,-70\"/>\n",
       "<text text-anchor=\"middle\" x=\"35.335\" y=\"-58\" font-family=\"sans\" font-size=\"10.00\" fill=\"#000000\">B</text>\n",
       "</g>\n",
       "<!-- 4381189008&#45;&gt;4381189120 -->\n",
       "<g id=\"edge3\" class=\"edge\">\n",
       "<title>4381189008&#45;&gt;4381189120</title>\n",
       "<path fill=\"none\" stroke=\"#c0c0c0\" d=\"M27.532,-77.9065C28.2416,-76.3689 28.9884,-74.7509 29.7272,-73.1502\"/>\n",
       "<polygon fill=\"#c0c0c0\" stroke=\"#c0c0c0\" points=\"30.7348,-73.4725 31.0387,-70.3086 28.8281,-72.5924 30.7348,-73.4725\"/>\n",
       "</g>\n",
       "<!-- 4381189176 -->\n",
       "<g id=\"node5\" class=\"node\">\n",
       "<title>4381189176</title>\n",
       "<polygon fill=\"#dbdb8d\" stroke=\"transparent\" points=\"50.7866,-44 19.8834,-44 19.8834,-26 50.7866,-26 50.7866,-44\"/>\n",
       "<text text-anchor=\"middle\" x=\"35.335\" y=\"-32\" font-family=\"sans\" font-size=\"10.00\" fill=\"#000000\">B.y</text>\n",
       "</g>\n",
       "<!-- 4381189120&#45;&gt;4381189176 -->\n",
       "<g id=\"edge4\" class=\"edge\">\n",
       "<title>4381189120&#45;&gt;4381189176</title>\n",
       "<path fill=\"none\" stroke=\"#c0c0c0\" d=\"M35.335,-51.9065C35.335,-50.5226 35.335,-49.0737 35.335,-47.6308\"/>\n",
       "<polygon fill=\"#c0c0c0\" stroke=\"#c0c0c0\" points=\"36.3851,-47.3085 35.335,-44.3086 34.2851,-47.3086 36.3851,-47.3085\"/>\n",
       "</g>\n",
       "<!-- 4381189232 -->\n",
       "<g id=\"node6\" class=\"node\">\n",
       "<title>4381189232</title>\n",
       "<polygon fill=\"#eeeeee\" stroke=\"transparent\" points=\"46.5073,-18 24.1627,-18 24.1627,0 46.5073,0 46.5073,-18\"/>\n",
       "<text text-anchor=\"middle\" x=\"35.335\" y=\"-6\" font-family=\"sans\" font-size=\"10.00\" fill=\"#000000\">Y</text>\n",
       "</g>\n",
       "<!-- 4381189176&#45;&gt;4381189232 -->\n",
       "<g id=\"edge5\" class=\"edge\">\n",
       "<title>4381189176&#45;&gt;4381189232</title>\n",
       "<path fill=\"none\" stroke=\"#c0c0c0\" d=\"M35.335,-25.9065C35.335,-24.5226 35.335,-23.0737 35.335,-21.6308\"/>\n",
       "<polygon fill=\"#c0c0c0\" stroke=\"#c0c0c0\" points=\"36.3851,-21.3085 35.335,-18.3086 34.2851,-21.3086 36.3851,-21.3085\"/>\n",
       "</g>\n",
       "</g>\n",
       "</svg>\n"
      ],
      "text/plain": [
       "Graph([Node(4381188952, style({'fillcolor': '#dbdb8d', 'label': 'A'})),\n",
       "       Node(4381189008, style({'fillcolor': '#dbdb8d', 'label': 'A.x'})),\n",
       "       Node(4381189064, style({'label': 'X'})),\n",
       "       Node(4381189120, style({'fillcolor': '#dbdb8d', 'label': 'B'})),\n",
       "       Node(4381189176, style({'fillcolor': '#dbdb8d', 'label': 'B.y'})),\n",
       "       Node(4381189232, style({'label': 'Y'}))],\n",
       "      [Edge(4381188952, 4381189008),\n",
       "       Edge(4381189008, 4381189064),\n",
       "       Edge(4381189008, 4381189120),\n",
       "       Edge(4381189120, 4381189176),\n",
       "       Edge(4381189176, 4381189232)])"
      ]
     },
     "execution_count": 13,
     "metadata": {},
     "output_type": "execute_result"
    }
   ],
   "source": [
    "from yargy.predicates import true\n",
    "\n",
    "\n",
    "A = fact(\n",
    "    'A',\n",
    "    ['x']\n",
    ")\n",
    "B = fact(\n",
    "    'B',\n",
    "    ['y']\n",
    ")\n",
    "RULE = rule(\n",
    "    true(),\n",
    "    true().interpretation(\n",
    "        B.y\n",
    "    ).interpretation(\n",
    "        B\n",
    "    )\n",
    ").interpretation(\n",
    "    A.x\n",
    ").interpretation(\n",
    "    A\n",
    ")\n",
    "\n",
    "parser = Parser(RULE)\n",
    "match = next(parser.match('X Y'))\n",
    "match.tree.as_dot"
   ]
  },
  {
   "cell_type": "markdown",
   "metadata": {},
   "source": [
    "В `A.x` будет список из строки и объекта `B`:"
   ]
  },
  {
   "cell_type": "code",
   "execution_count": 14,
   "metadata": {},
   "outputs": [
    {
     "data": {
      "text/plain": [
       "A(x=['X', B(y='Y')])"
      ]
     },
     "execution_count": 14,
     "metadata": {},
     "output_type": "execute_result"
    }
   ],
   "source": [
    "match.fact"
   ]
  },
  {
   "cell_type": "markdown",
   "metadata": {},
   "source": [
    "Если под вершиной-атрибутом другая вершина-атрибут, нижняя просто исчезает:"
   ]
  },
  {
   "cell_type": "code",
   "execution_count": 15,
   "metadata": {},
   "outputs": [
    {
     "data": {
      "image/svg+xml": [
       "<?xml version=\"1.0\" encoding=\"UTF-8\" standalone=\"no\"?>\n",
       "<!DOCTYPE svg PUBLIC \"-//W3C//DTD SVG 1.1//EN\"\n",
       " \"http://www.w3.org/Graphics/SVG/1.1/DTD/svg11.dtd\">\n",
       "<!-- Generated by graphviz version 2.40.1 (20161225.0304)\n",
       " -->\n",
       "<!-- Title: 4381185976 Pages: 1 -->\n",
       "<svg width=\"38pt\" height=\"104pt\"\n",
       " viewBox=\"0.00 0.00 38.45 104.00\" xmlns=\"http://www.w3.org/2000/svg\" xmlns:xlink=\"http://www.w3.org/1999/xlink\">\n",
       "<g id=\"graph0\" class=\"graph\" transform=\"scale(1 1) rotate(0) translate(4 100)\">\n",
       "<title>4381185976</title>\n",
       "<polygon fill=\"#ffffff\" stroke=\"transparent\" points=\"-4,4 -4,-100 34.4482,-100 34.4482,4 -4,4\"/>\n",
       "<!-- 4381072632 -->\n",
       "<g id=\"node1\" class=\"node\">\n",
       "<title>4381072632</title>\n",
       "<polygon fill=\"#dbdb8d\" stroke=\"transparent\" points=\"26.3964,-96 4.0518,-96 4.0518,-78 26.3964,-78 26.3964,-96\"/>\n",
       "<text text-anchor=\"middle\" x=\"15.2241\" y=\"-84\" font-family=\"sans\" font-size=\"10.00\" fill=\"#000000\">A</text>\n",
       "</g>\n",
       "<!-- 4381072352 -->\n",
       "<g id=\"node2\" class=\"node\">\n",
       "<title>4381072352</title>\n",
       "<polygon fill=\"#dbdb8d\" stroke=\"transparent\" points=\"30.6757,-70 -.2275,-70 -.2275,-52 30.6757,-52 30.6757,-70\"/>\n",
       "<text text-anchor=\"middle\" x=\"15.2241\" y=\"-58\" font-family=\"sans\" font-size=\"10.00\" fill=\"#000000\">A.y</text>\n",
       "</g>\n",
       "<!-- 4381072632&#45;&gt;4381072352 -->\n",
       "<g id=\"edge1\" class=\"edge\">\n",
       "<title>4381072632&#45;&gt;4381072352</title>\n",
       "<path fill=\"none\" stroke=\"#c0c0c0\" d=\"M15.2241,-77.9065C15.2241,-76.5226 15.2241,-75.0737 15.2241,-73.6308\"/>\n",
       "<polygon fill=\"#c0c0c0\" stroke=\"#c0c0c0\" points=\"16.2742,-73.3085 15.2241,-70.3086 14.1742,-73.3086 16.2742,-73.3085\"/>\n",
       "</g>\n",
       "<!-- 4381070560 -->\n",
       "<g id=\"node3\" class=\"node\">\n",
       "<title>4381070560</title>\n",
       "<polygon fill=\"#dbdb8d\" stroke=\"transparent\" points=\"30.6757,-44 -.2275,-44 -.2275,-26 30.6757,-26 30.6757,-44\"/>\n",
       "<text text-anchor=\"middle\" x=\"15.2241\" y=\"-32\" font-family=\"sans\" font-size=\"10.00\" fill=\"#000000\">A.x</text>\n",
       "</g>\n",
       "<!-- 4381072352&#45;&gt;4381070560 -->\n",
       "<g id=\"edge2\" class=\"edge\">\n",
       "<title>4381072352&#45;&gt;4381070560</title>\n",
       "<path fill=\"none\" stroke=\"#c0c0c0\" d=\"M15.2241,-51.9065C15.2241,-50.5226 15.2241,-49.0737 15.2241,-47.6308\"/>\n",
       "<polygon fill=\"#c0c0c0\" stroke=\"#c0c0c0\" points=\"16.2742,-47.3085 15.2241,-44.3086 14.1742,-47.3086 16.2742,-47.3085\"/>\n",
       "</g>\n",
       "<!-- 4381069384 -->\n",
       "<g id=\"node4\" class=\"node\">\n",
       "<title>4381069384</title>\n",
       "<polygon fill=\"#eeeeee\" stroke=\"transparent\" points=\"26.3964,-18 4.0518,-18 4.0518,0 26.3964,0 26.3964,-18\"/>\n",
       "<text text-anchor=\"middle\" x=\"15.2241\" y=\"-6\" font-family=\"sans\" font-size=\"10.00\" fill=\"#000000\">X</text>\n",
       "</g>\n",
       "<!-- 4381070560&#45;&gt;4381069384 -->\n",
       "<g id=\"edge3\" class=\"edge\">\n",
       "<title>4381070560&#45;&gt;4381069384</title>\n",
       "<path fill=\"none\" stroke=\"#c0c0c0\" d=\"M15.2241,-25.9065C15.2241,-24.5226 15.2241,-23.0737 15.2241,-21.6308\"/>\n",
       "<polygon fill=\"#c0c0c0\" stroke=\"#c0c0c0\" points=\"16.2742,-21.3085 15.2241,-18.3086 14.1742,-21.3086 16.2742,-21.3085\"/>\n",
       "</g>\n",
       "</g>\n",
       "</svg>\n"
      ],
      "text/plain": [
       "Graph([Node(4381072632, style({'fillcolor': '#dbdb8d', 'label': 'A'})),\n",
       "       Node(4381072352, style({'fillcolor': '#dbdb8d', 'label': 'A.y'})),\n",
       "       Node(4381070560, style({'fillcolor': '#dbdb8d', 'label': 'A.x'})),\n",
       "       Node(4381069384, style({'label': 'X'}))],\n",
       "      [Edge(4381072632, 4381072352),\n",
       "       Edge(4381072352, 4381070560),\n",
       "       Edge(4381070560, 4381069384)])"
      ]
     },
     "execution_count": 15,
     "metadata": {},
     "output_type": "execute_result"
    }
   ],
   "source": [
    "from yargy.predicates import true\n",
    "\n",
    "\n",
    "A = fact(\n",
    "    'A',\n",
    "    ['x', 'y']\n",
    ")\n",
    "RULE = true().interpretation(\n",
    "    A.x\n",
    ").interpretation(\n",
    "    A.y\n",
    ").interpretation(A)\n",
    "\n",
    "parser = Parser(RULE)\n",
    "match = next(parser.match('X'))\n",
    "match.tree.as_dot"
   ]
  },
  {
   "cell_type": "markdown",
   "metadata": {},
   "source": [
    "\"X\" попадёт в `A.y`, не в `A.x`:"
   ]
  },
  {
   "cell_type": "code",
   "execution_count": 16,
   "metadata": {},
   "outputs": [
    {
     "data": {
      "text/plain": [
       "A(x=None,\n",
       "  y='X')"
      ]
     },
     "execution_count": 16,
     "metadata": {},
     "output_type": "execute_result"
    }
   ],
   "source": [
    "match.fact"
   ]
  },
  {
   "cell_type": "markdown",
   "metadata": {},
   "source": [
    "Что если под вершиной-конструктом несколько одинаковых вершин-атрибутов? Самый правый атрибут перезаписывает все остальные:"
   ]
  },
  {
   "cell_type": "code",
   "execution_count": 17,
   "metadata": {},
   "outputs": [
    {
     "data": {
      "image/svg+xml": [
       "<?xml version=\"1.0\" encoding=\"UTF-8\" standalone=\"no\"?>\n",
       "<!DOCTYPE svg PUBLIC \"-//W3C//DTD SVG 1.1//EN\"\n",
       " \"http://www.w3.org/Graphics/SVG/1.1/DTD/svg11.dtd\">\n",
       "<!-- Generated by graphviz version 2.40.1 (20161225.0304)\n",
       " -->\n",
       "<!-- Title: 4381069384 Pages: 1 -->\n",
       "<svg width=\"100pt\" height=\"78pt\"\n",
       " viewBox=\"0.00 0.00 100.45 78.00\" xmlns=\"http://www.w3.org/2000/svg\" xmlns:xlink=\"http://www.w3.org/1999/xlink\">\n",
       "<g id=\"graph0\" class=\"graph\" transform=\"scale(1 1) rotate(0) translate(4 74)\">\n",
       "<title>4381069384</title>\n",
       "<polygon fill=\"#ffffff\" stroke=\"transparent\" points=\"-4,4 -4,-74 96.4482,-74 96.4482,4 -4,4\"/>\n",
       "<!-- 4381191808 -->\n",
       "<g id=\"node1\" class=\"node\">\n",
       "<title>4381191808</title>\n",
       "<polygon fill=\"#dbdb8d\" stroke=\"transparent\" points=\"57.3964,-70 35.0518,-70 35.0518,-52 57.3964,-52 57.3964,-70\"/>\n",
       "<text text-anchor=\"middle\" x=\"46.2241\" y=\"-58\" font-family=\"sans\" font-size=\"10.00\" fill=\"#000000\">A</text>\n",
       "</g>\n",
       "<!-- 4381191360 -->\n",
       "<g id=\"node2\" class=\"node\">\n",
       "<title>4381191360</title>\n",
       "<polygon fill=\"#dbdb8d\" stroke=\"transparent\" points=\"30.6757,-44 -.2275,-44 -.2275,-26 30.6757,-26 30.6757,-44\"/>\n",
       "<text text-anchor=\"middle\" x=\"15.2241\" y=\"-32\" font-family=\"sans\" font-size=\"10.00\" fill=\"#000000\">A.x</text>\n",
       "</g>\n",
       "<!-- 4381191808&#45;&gt;4381191360 -->\n",
       "<g id=\"edge1\" class=\"edge\">\n",
       "<title>4381191808&#45;&gt;4381191360</title>\n",
       "<path fill=\"none\" stroke=\"#c0c0c0\" d=\"M35.3818,-51.9065C33.2735,-50.1382 31.0385,-48.2637 28.8538,-46.4313\"/>\n",
       "<polygon fill=\"#c0c0c0\" stroke=\"#c0c0c0\" points=\"29.2962,-45.4319 26.3228,-44.3086 27.9466,-47.041 29.2962,-45.4319\"/>\n",
       "</g>\n",
       "<!-- 4381191472 -->\n",
       "<g id=\"node4\" class=\"node\">\n",
       "<title>4381191472</title>\n",
       "<polygon fill=\"#dbdb8d\" stroke=\"transparent\" points=\"61.6757,-44 30.7725,-44 30.7725,-26 61.6757,-26 61.6757,-44\"/>\n",
       "<text text-anchor=\"middle\" x=\"46.2241\" y=\"-32\" font-family=\"sans\" font-size=\"10.00\" fill=\"#000000\">A.x</text>\n",
       "</g>\n",
       "<!-- 4381191808&#45;&gt;4381191472 -->\n",
       "<g id=\"edge2\" class=\"edge\">\n",
       "<title>4381191808&#45;&gt;4381191472</title>\n",
       "<path fill=\"none\" stroke=\"#c0c0c0\" d=\"M46.2241,-51.9065C46.2241,-50.5226 46.2241,-49.0737 46.2241,-47.6308\"/>\n",
       "<polygon fill=\"#c0c0c0\" stroke=\"#c0c0c0\" points=\"47.2742,-47.3085 46.2241,-44.3086 45.1742,-47.3086 47.2742,-47.3085\"/>\n",
       "</g>\n",
       "<!-- 4381191864 -->\n",
       "<g id=\"node6\" class=\"node\">\n",
       "<title>4381191864</title>\n",
       "<polygon fill=\"#dbdb8d\" stroke=\"transparent\" points=\"92.6757,-44 61.7725,-44 61.7725,-26 92.6757,-26 92.6757,-44\"/>\n",
       "<text text-anchor=\"middle\" x=\"77.2241\" y=\"-32\" font-family=\"sans\" font-size=\"10.00\" fill=\"#000000\">A.x</text>\n",
       "</g>\n",
       "<!-- 4381191808&#45;&gt;4381191864 -->\n",
       "<g id=\"edge3\" class=\"edge\">\n",
       "<title>4381191808&#45;&gt;4381191864</title>\n",
       "<path fill=\"none\" stroke=\"#c0c0c0\" d=\"M57.0664,-51.9065C59.1747,-50.1382 61.4097,-48.2637 63.5945,-46.4313\"/>\n",
       "<polygon fill=\"#c0c0c0\" stroke=\"#c0c0c0\" points=\"64.5016,-47.041 66.1254,-44.3086 63.1521,-45.4319 64.5016,-47.041\"/>\n",
       "</g>\n",
       "<!-- 4381191752 -->\n",
       "<g id=\"node3\" class=\"node\">\n",
       "<title>4381191752</title>\n",
       "<polygon fill=\"#eeeeee\" stroke=\"transparent\" points=\"25.79,-18 4.6582,-18 4.6582,0 25.79,0 25.79,-18\"/>\n",
       "<text text-anchor=\"middle\" x=\"15.2241\" y=\"-6\" font-family=\"sans\" font-size=\"10.00\" fill=\"#000000\">1</text>\n",
       "</g>\n",
       "<!-- 4381191360&#45;&gt;4381191752 -->\n",
       "<g id=\"edge4\" class=\"edge\">\n",
       "<title>4381191360&#45;&gt;4381191752</title>\n",
       "<path fill=\"none\" stroke=\"#c0c0c0\" d=\"M15.2241,-25.9065C15.2241,-24.5226 15.2241,-23.0737 15.2241,-21.6308\"/>\n",
       "<polygon fill=\"#c0c0c0\" stroke=\"#c0c0c0\" points=\"16.2742,-21.3085 15.2241,-18.3086 14.1742,-21.3086 16.2742,-21.3085\"/>\n",
       "</g>\n",
       "<!-- 4381192088 -->\n",
       "<g id=\"node5\" class=\"node\">\n",
       "<title>4381192088</title>\n",
       "<polygon fill=\"#eeeeee\" stroke=\"transparent\" points=\"56.79,-18 35.6582,-18 35.6582,0 56.79,0 56.79,-18\"/>\n",
       "<text text-anchor=\"middle\" x=\"46.2241\" y=\"-6\" font-family=\"sans\" font-size=\"10.00\" fill=\"#000000\">2</text>\n",
       "</g>\n",
       "<!-- 4381191472&#45;&gt;4381192088 -->\n",
       "<g id=\"edge5\" class=\"edge\">\n",
       "<title>4381191472&#45;&gt;4381192088</title>\n",
       "<path fill=\"none\" stroke=\"#c0c0c0\" d=\"M46.2241,-25.9065C46.2241,-24.5226 46.2241,-23.0737 46.2241,-21.6308\"/>\n",
       "<polygon fill=\"#c0c0c0\" stroke=\"#c0c0c0\" points=\"47.2742,-21.3085 46.2241,-18.3086 45.1742,-21.3086 47.2742,-21.3085\"/>\n",
       "</g>\n",
       "<!-- 4381220992 -->\n",
       "<g id=\"node7\" class=\"node\">\n",
       "<title>4381220992</title>\n",
       "<polygon fill=\"#eeeeee\" stroke=\"transparent\" points=\"87.79,-18 66.6582,-18 66.6582,0 87.79,0 87.79,-18\"/>\n",
       "<text text-anchor=\"middle\" x=\"77.2241\" y=\"-6\" font-family=\"sans\" font-size=\"10.00\" fill=\"#000000\">3</text>\n",
       "</g>\n",
       "<!-- 4381191864&#45;&gt;4381220992 -->\n",
       "<g id=\"edge6\" class=\"edge\">\n",
       "<title>4381191864&#45;&gt;4381220992</title>\n",
       "<path fill=\"none\" stroke=\"#c0c0c0\" d=\"M77.2241,-25.9065C77.2241,-24.5226 77.2241,-23.0737 77.2241,-21.6308\"/>\n",
       "<polygon fill=\"#c0c0c0\" stroke=\"#c0c0c0\" points=\"78.2742,-21.3085 77.2241,-18.3086 76.1742,-21.3086 78.2742,-21.3085\"/>\n",
       "</g>\n",
       "</g>\n",
       "</svg>\n"
      ],
      "text/plain": [
       "Graph([Node(4381191808, style({'fillcolor': '#dbdb8d', 'label': 'A'})),\n",
       "       Node(4381191360, style({'fillcolor': '#dbdb8d', 'label': 'A.x'})),\n",
       "       Node(4381191752, style({'label': 1})),\n",
       "       Node(4381191472, style({'fillcolor': '#dbdb8d', 'label': 'A.x'})),\n",
       "       Node(4381192088, style({'label': 2})),\n",
       "       Node(4381191864, style({'fillcolor': '#dbdb8d', 'label': 'A.x'})),\n",
       "       Node(4381220992, style({'label': 3}))],\n",
       "      [Edge(4381191808, 4381191360),\n",
       "       Edge(4381191808, 4381191472),\n",
       "       Edge(4381191808, 4381191864),\n",
       "       Edge(4381191360, 4381191752),\n",
       "       Edge(4381191472, 4381192088),\n",
       "       Edge(4381191864, 4381220992)])"
      ]
     },
     "execution_count": 17,
     "metadata": {},
     "output_type": "execute_result"
    }
   ],
   "source": [
    "A = fact(\n",
    "    'A',\n",
    "    ['x']\n",
    ")\n",
    "RULE = true().interpretation(\n",
    "    A.x\n",
    ").repeatable().interpretation(\n",
    "    A\n",
    ")\n",
    "\n",
    "parser = Parser(RULE)\n",
    "match = next(parser.match('1 2 3'))\n",
    "match.tree.normalized.as_dot"
   ]
  },
  {
   "cell_type": "markdown",
   "metadata": {},
   "source": [
    "В `A.x` попадёт 3:"
   ]
  },
  {
   "cell_type": "code",
   "execution_count": 18,
   "metadata": {},
   "outputs": [
    {
     "data": {
      "text/plain": [
       "A(x=3)"
      ]
     },
     "execution_count": 18,
     "metadata": {},
     "output_type": "execute_result"
    }
   ],
   "source": [
    "match.fact"
   ]
  },
  {
   "cell_type": "markdown",
   "metadata": {},
   "source": [
    "Но бывает нужно сохранить содержание всех повторяющихся вершин-атрибутов, не только самой правой. В этом случае поле помечается как `repeatable`:"
   ]
  },
  {
   "cell_type": "code",
   "execution_count": 19,
   "metadata": {},
   "outputs": [
    {
     "data": {
      "image/svg+xml": [
       "<?xml version=\"1.0\" encoding=\"UTF-8\" standalone=\"no\"?>\n",
       "<!DOCTYPE svg PUBLIC \"-//W3C//DTD SVG 1.1//EN\"\n",
       " \"http://www.w3.org/Graphics/SVG/1.1/DTD/svg11.dtd\">\n",
       "<!-- Generated by graphviz version 2.40.1 (20161225.0304)\n",
       " -->\n",
       "<!-- Title: 4381184072 Pages: 1 -->\n",
       "<svg width=\"243pt\" height=\"78pt\"\n",
       " viewBox=\"0.00 0.00 242.56 78.00\" xmlns=\"http://www.w3.org/2000/svg\" xmlns:xlink=\"http://www.w3.org/1999/xlink\">\n",
       "<g id=\"graph0\" class=\"graph\" transform=\"scale(1 1) rotate(0) translate(4 74)\">\n",
       "<title>4381184072</title>\n",
       "<polygon fill=\"#ffffff\" stroke=\"transparent\" points=\"-4,4 -4,-74 238.5615,-74 238.5615,4 -4,4\"/>\n",
       "<!-- 4381150456 -->\n",
       "<g id=\"node1\" class=\"node\">\n",
       "<title>4381150456</title>\n",
       "<polygon fill=\"#dbdb8d\" stroke=\"transparent\" points=\"125.7319,-70 89.8296,-70 89.8296,-52 125.7319,-52 125.7319,-70\"/>\n",
       "<text text-anchor=\"middle\" x=\"107.7808\" y=\"-58\" font-family=\"sans\" font-size=\"10.00\" fill=\"#000000\">Item</text>\n",
       "</g>\n",
       "<!-- 4381221048 -->\n",
       "<g id=\"node2\" class=\"node\">\n",
       "<title>4381221048</title>\n",
       "<polygon fill=\"#dbdb8d\" stroke=\"transparent\" points=\"88.0692,-44 29.4923,-44 29.4923,-26 88.0692,-26 88.0692,-44\"/>\n",
       "<text text-anchor=\"middle\" x=\"58.7808\" y=\"-32\" font-family=\"sans\" font-size=\"10.00\" fill=\"#000000\">Item.titles</text>\n",
       "</g>\n",
       "<!-- 4381150456&#45;&gt;4381221048 -->\n",
       "<g id=\"edge1\" class=\"edge\">\n",
       "<title>4381150456&#45;&gt;4381221048</title>\n",
       "<path fill=\"none\" stroke=\"#c0c0c0\" d=\"M90.6429,-51.9065C86.7861,-49.86 82.661,-47.6711 78.7013,-45.5701\"/>\n",
       "<polygon fill=\"#c0c0c0\" stroke=\"#c0c0c0\" points=\"79.134,-44.611 75.9917,-44.1324 78.1496,-46.4661 79.134,-44.611\"/>\n",
       "</g>\n",
       "<!-- 4381295392 -->\n",
       "<g id=\"node6\" class=\"node\">\n",
       "<title>4381295392</title>\n",
       "<polygon fill=\"#eeeeee\" stroke=\"transparent\" points=\"117.0604,-44 98.5011,-44 98.5011,-26 117.0604,-26 117.0604,-44\"/>\n",
       "<text text-anchor=\"middle\" x=\"107.7808\" y=\"-32\" font-family=\"sans\" font-size=\"10.00\" fill=\"#000000\">,</text>\n",
       "</g>\n",
       "<!-- 4381150456&#45;&gt;4381295392 -->\n",
       "<g id=\"edge2\" class=\"edge\">\n",
       "<title>4381150456&#45;&gt;4381295392</title>\n",
       "<path fill=\"none\" stroke=\"#c0c0c0\" d=\"M107.7808,-51.9065C107.7808,-50.5226 107.7808,-49.0737 107.7808,-47.6308\"/>\n",
       "<polygon fill=\"#c0c0c0\" stroke=\"#c0c0c0\" points=\"108.8309,-47.3085 107.7808,-44.3086 106.7309,-47.3086 108.8309,-47.3085\"/>\n",
       "</g>\n",
       "<!-- 4381220936 -->\n",
       "<g id=\"node7\" class=\"node\">\n",
       "<title>4381220936</title>\n",
       "<polygon fill=\"#dbdb8d\" stroke=\"transparent\" points=\"181.0692,-44 122.4923,-44 122.4923,-26 181.0692,-26 181.0692,-44\"/>\n",
       "<text text-anchor=\"middle\" x=\"151.7808\" y=\"-32\" font-family=\"sans\" font-size=\"10.00\" fill=\"#000000\">Item.titles</text>\n",
       "</g>\n",
       "<!-- 4381150456&#45;&gt;4381220936 -->\n",
       "<g id=\"edge3\" class=\"edge\">\n",
       "<title>4381150456&#45;&gt;4381220936</title>\n",
       "<path fill=\"none\" stroke=\"#c0c0c0\" d=\"M123.1698,-51.9065C126.4999,-49.9387 130.0527,-47.8393 133.482,-45.8129\"/>\n",
       "<polygon fill=\"#c0c0c0\" stroke=\"#c0c0c0\" points=\"134.2774,-46.5626 136.326,-44.1324 133.209,-44.7546 134.2774,-46.5626\"/>\n",
       "</g>\n",
       "<!-- 4381295112 -->\n",
       "<g id=\"node3\" class=\"node\">\n",
       "<title>4381295112</title>\n",
       "<polygon fill=\"#eeeeee\" stroke=\"transparent\" points=\"21.3467,-18 .2149,-18 .2149,0 21.3467,0 21.3467,-18\"/>\n",
       "<text text-anchor=\"middle\" x=\"10.7808\" y=\"-6\" font-family=\"sans\" font-size=\"10.00\" fill=\"#000000\">«</text>\n",
       "</g>\n",
       "<!-- 4381221048&#45;&gt;4381295112 -->\n",
       "<g id=\"edge4\" class=\"edge\">\n",
       "<title>4381221048&#45;&gt;4381295112</title>\n",
       "<path fill=\"none\" stroke=\"#c0c0c0\" d=\"M40.5133,-25.8563C35.6894,-23.3692 30.5105,-20.6336 25.7808,-18 25.2634,-17.7119 24.7377,-17.4155 24.2082,-17.1137\"/>\n",
       "<polygon fill=\"#c0c0c0\" stroke=\"#c0c0c0\" points=\"24.6695,-16.1675 21.547,-15.5733 23.6174,-17.985 24.6695,-16.1675\"/>\n",
       "</g>\n",
       "<!-- 4381295224 -->\n",
       "<g id=\"node4\" class=\"node\">\n",
       "<title>4381295224</title>\n",
       "<polygon fill=\"#eeeeee\" stroke=\"transparent\" points=\"85.4539,-18 22.1077,-18 22.1077,0 85.4539,0 85.4539,-18\"/>\n",
       "<text text-anchor=\"middle\" x=\"53.7808\" y=\"-6\" font-family=\"sans\" font-size=\"10.00\" fill=\"#000000\">Каштанка</text>\n",
       "</g>\n",
       "<!-- 4381221048&#45;&gt;4381295224 -->\n",
       "<g id=\"edge5\" class=\"edge\">\n",
       "<title>4381221048&#45;&gt;4381295224</title>\n",
       "<path fill=\"none\" stroke=\"#c0c0c0\" d=\"M57.032,-25.9065C56.7659,-24.5226 56.4872,-23.0737 56.2098,-21.6308\"/>\n",
       "<polygon fill=\"#c0c0c0\" stroke=\"#c0c0c0\" points=\"57.1686,-21.0563 55.5709,-18.3086 55.1064,-21.4529 57.1686,-21.0563\"/>\n",
       "</g>\n",
       "<!-- 4381295280 -->\n",
       "<g id=\"node5\" class=\"node\">\n",
       "<title>4381295280</title>\n",
       "<polygon fill=\"#eeeeee\" stroke=\"transparent\" points=\"107.3467,-18 86.2149,-18 86.2149,0 107.3467,0 107.3467,-18\"/>\n",
       "<text text-anchor=\"middle\" x=\"96.7808\" y=\"-6\" font-family=\"sans\" font-size=\"10.00\" fill=\"#000000\">»</text>\n",
       "</g>\n",
       "<!-- 4381221048&#45;&gt;4381295280 -->\n",
       "<g id=\"edge6\" class=\"edge\">\n",
       "<title>4381221048&#45;&gt;4381295280</title>\n",
       "<path fill=\"none\" stroke=\"#c0c0c0\" d=\"M72.0713,-25.9065C75.8275,-23.3365 79.9118,-20.5419 83.658,-17.9787\"/>\n",
       "<polygon fill=\"#c0c0c0\" stroke=\"#c0c0c0\" points=\"84.3063,-18.8074 86.1893,-16.2468 83.1205,-17.0743 84.3063,-18.8074\"/>\n",
       "</g>\n",
       "<!-- 4381295784 -->\n",
       "<g id=\"node8\" class=\"node\">\n",
       "<title>4381295784</title>\n",
       "<polygon fill=\"#eeeeee\" stroke=\"transparent\" points=\"130.3467,-18 109.2149,-18 109.2149,0 130.3467,0 130.3467,-18\"/>\n",
       "<text text-anchor=\"middle\" x=\"119.7808\" y=\"-6\" font-family=\"sans\" font-size=\"10.00\" fill=\"#000000\">«</text>\n",
       "</g>\n",
       "<!-- 4381220936&#45;&gt;4381295784 -->\n",
       "<g id=\"edge7\" class=\"edge\">\n",
       "<title>4381220936&#45;&gt;4381295784</title>\n",
       "<path fill=\"none\" stroke=\"#c0c0c0\" d=\"M140.5887,-25.9065C138.1015,-23.8856 135.4434,-21.7259 132.8873,-19.649\"/>\n",
       "<polygon fill=\"#c0c0c0\" stroke=\"#c0c0c0\" points=\"133.3657,-18.6849 130.3752,-17.608 132.0414,-20.3147 133.3657,-18.6849\"/>\n",
       "</g>\n",
       "<!-- 4381295896 -->\n",
       "<g id=\"node9\" class=\"node\">\n",
       "<title>4381295896</title>\n",
       "<polygon fill=\"#eeeeee\" stroke=\"transparent\" points=\"172.0148,-18 131.5467,-18 131.5467,0 172.0148,0 172.0148,-18\"/>\n",
       "<text text-anchor=\"middle\" x=\"151.7808\" y=\"-6\" font-family=\"sans\" font-size=\"10.00\" fill=\"#000000\">Дядя</text>\n",
       "</g>\n",
       "<!-- 4381220936&#45;&gt;4381295896 -->\n",
       "<g id=\"edge8\" class=\"edge\">\n",
       "<title>4381220936&#45;&gt;4381295896</title>\n",
       "<path fill=\"none\" stroke=\"#c0c0c0\" d=\"M151.7808,-25.9065C151.7808,-24.5226 151.7808,-23.0737 151.7808,-21.6308\"/>\n",
       "<polygon fill=\"#c0c0c0\" stroke=\"#c0c0c0\" points=\"152.8309,-21.3085 151.7808,-18.3086 150.7309,-21.3086 152.8309,-21.3085\"/>\n",
       "</g>\n",
       "<!-- 4381296064 -->\n",
       "<g id=\"node10\" class=\"node\">\n",
       "<title>4381296064</title>\n",
       "<polygon fill=\"#eeeeee\" stroke=\"transparent\" points=\"212.6566,-18 172.9049,-18 172.9049,0 212.6566,0 212.6566,-18\"/>\n",
       "<text text-anchor=\"middle\" x=\"192.7808\" y=\"-6\" font-family=\"sans\" font-size=\"10.00\" fill=\"#000000\">Ваня</text>\n",
       "</g>\n",
       "<!-- 4381220936&#45;&gt;4381296064 -->\n",
       "<g id=\"edge9\" class=\"edge\">\n",
       "<title>4381220936&#45;&gt;4381296064</title>\n",
       "<path fill=\"none\" stroke=\"#c0c0c0\" d=\"M166.1206,-25.9065C169.2236,-23.9387 172.5342,-21.8393 175.7297,-19.8129\"/>\n",
       "<polygon fill=\"#c0c0c0\" stroke=\"#c0c0c0\" points=\"176.4085,-20.6258 178.3797,-18.1324 175.2839,-18.8523 176.4085,-20.6258\"/>\n",
       "</g>\n",
       "<!-- 4381296120 -->\n",
       "<g id=\"node11\" class=\"node\">\n",
       "<title>4381296120</title>\n",
       "<polygon fill=\"#eeeeee\" stroke=\"transparent\" points=\"234.3467,-18 213.2149,-18 213.2149,0 234.3467,0 234.3467,-18\"/>\n",
       "<text text-anchor=\"middle\" x=\"223.7808\" y=\"-6\" font-family=\"sans\" font-size=\"10.00\" fill=\"#000000\">»</text>\n",
       "</g>\n",
       "<!-- 4381220936&#45;&gt;4381296120 -->\n",
       "<g id=\"edge10\" class=\"edge\">\n",
       "<title>4381220936&#45;&gt;4381296120</title>\n",
       "<path fill=\"none\" stroke=\"#c0c0c0\" d=\"M181.2837,-27.7261C190.2806,-25.1048 200.0873,-21.8316 208.7808,-18 209.3227,-17.7612 209.869,-17.5065 210.4161,-17.2398\"/>\n",
       "<polygon fill=\"#c0c0c0\" stroke=\"#c0c0c0\" points=\"210.962,-18.1394 213.1389,-15.8235 209.9929,-16.2764 210.962,-18.1394\"/>\n",
       "</g>\n",
       "</g>\n",
       "</svg>\n"
      ],
      "text/plain": [
       "Graph([Node(4381150456, style({'fillcolor': '#dbdb8d', 'label': 'Item'})),\n",
       "       Node(4381221048,\n",
       "            style({'fillcolor': '#dbdb8d', 'label': 'Item.titles'})),\n",
       "       Node(4381295112, style({'label': '«'})),\n",
       "       Node(4381295224, style({'label': 'Каштанка'})),\n",
       "       Node(4381295280, style({'label': '»'})),\n",
       "       Node(4381295392, style({'label': ','})),\n",
       "       Node(4381220936,\n",
       "            style({'fillcolor': '#dbdb8d', 'label': 'Item.titles'})),\n",
       "       Node(4381295784, style({'label': '«'})),\n",
       "       Node(4381295896, style({'label': 'Дядя'})),\n",
       "       Node(4381296064, style({'label': 'Ваня'})),\n",
       "       Node(4381296120, style({'label': '»'}))],\n",
       "      [Edge(4381150456, 4381221048),\n",
       "       Edge(4381150456, 4381295392),\n",
       "       Edge(4381150456, 4381220936),\n",
       "       Edge(4381221048, 4381295112),\n",
       "       Edge(4381221048, 4381295224),\n",
       "       Edge(4381221048, 4381295280),\n",
       "       Edge(4381220936, 4381295784),\n",
       "       Edge(4381220936, 4381295896),\n",
       "       Edge(4381220936, 4381296064),\n",
       "       Edge(4381220936, 4381296120)])"
      ]
     },
     "execution_count": 19,
     "metadata": {},
     "output_type": "execute_result"
    }
   ],
   "source": [
    "from yargy import not_\n",
    "\n",
    "\n",
    "Item = fact(\n",
    "    'Item',\n",
    "    [attribute('titles').repeatable()]\n",
    ")\n",
    "\n",
    "TITLE = rule(\n",
    "    '«',\n",
    "    not_(eq('»')).repeatable(),\n",
    "    '»'\n",
    ")\n",
    "ITEM = rule(\n",
    "    TITLE.interpretation(\n",
    "        Item.titles\n",
    "    ),\n",
    "    eq(',').optional()\n",
    ").repeatable().interpretation(\n",
    "    Item\n",
    ")\n",
    "\n",
    "parser = Parser(ITEM)\n",
    "text = '«Каштанка», «Дядя Ваня»'\n",
    "match = next(parser.match(text))\n",
    "match.tree.normalized.as_dot"
   ]
  },
  {
   "cell_type": "markdown",
   "metadata": {},
   "source": [
    "«Дядя Ваня» не перезапишет «Каштанка», они оба окажутся в `Item.titles`:"
   ]
  },
  {
   "cell_type": "code",
   "execution_count": 20,
   "metadata": {},
   "outputs": [
    {
     "data": {
      "text/plain": [
       "Item(titles=['«Каштанка»', '«Дядя Ваня»'])"
      ]
     },
     "execution_count": 20,
     "metadata": {},
     "output_type": "execute_result"
    }
   ],
   "source": [
    "match.fact"
   ]
  },
  {
   "cell_type": "markdown",
   "metadata": {},
   "source": [
    "Остался последний неочевидный случай, когда ребёнок вершины-конструктора, другая вершина-конструктор. Такая ситуация возникает при использовании рекурсивных грамматик:"
   ]
  },
  {
   "cell_type": "code",
   "execution_count": 21,
   "metadata": {},
   "outputs": [
    {
     "data": {
      "image/svg+xml": [
       "<?xml version=\"1.0\" encoding=\"UTF-8\" standalone=\"no\"?>\n",
       "<!DOCTYPE svg PUBLIC \"-//W3C//DTD SVG 1.1//EN\"\n",
       " \"http://www.w3.org/Graphics/SVG/1.1/DTD/svg11.dtd\">\n",
       "<!-- Generated by graphviz version 2.40.1 (20161225.0304)\n",
       " -->\n",
       "<!-- Title: 4381295112 Pages: 1 -->\n",
       "<svg width=\"242pt\" height=\"130pt\"\n",
       " viewBox=\"0.00 0.00 241.63 130.00\" xmlns=\"http://www.w3.org/2000/svg\" xmlns:xlink=\"http://www.w3.org/1999/xlink\">\n",
       "<g id=\"graph0\" class=\"graph\" transform=\"scale(1 1) rotate(0) translate(4 126)\">\n",
       "<title>4381295112</title>\n",
       "<polygon fill=\"#ffffff\" stroke=\"transparent\" points=\"-4,4 -4,-126 237.6279,-126 237.6279,4 -4,4\"/>\n",
       "<!-- 4381295392 -->\n",
       "<g id=\"node1\" class=\"node\">\n",
       "<title>4381295392</title>\n",
       "<polygon fill=\"#dbdb8d\" stroke=\"transparent\" points=\"109.7319,-122 73.8296,-122 73.8296,-104 109.7319,-104 109.7319,-122\"/>\n",
       "<text text-anchor=\"middle\" x=\"91.7808\" y=\"-110\" font-family=\"sans\" font-size=\"10.00\" fill=\"#000000\">Item</text>\n",
       "</g>\n",
       "<!-- 4381295784 -->\n",
       "<g id=\"node2\" class=\"node\">\n",
       "<title>4381295784</title>\n",
       "<polygon fill=\"#dbdb8d\" stroke=\"transparent\" points=\"85.7319,-96 49.8296,-96 49.8296,-78 85.7319,-78 85.7319,-96\"/>\n",
       "<text text-anchor=\"middle\" x=\"67.7808\" y=\"-84\" font-family=\"sans\" font-size=\"10.00\" fill=\"#000000\">Item</text>\n",
       "</g>\n",
       "<!-- 4381295392&#45;&gt;4381295784 -->\n",
       "<g id=\"edge1\" class=\"edge\">\n",
       "<title>4381295392&#45;&gt;4381295784</title>\n",
       "<path fill=\"none\" stroke=\"#c0c0c0\" d=\"M83.3867,-103.9065C81.8255,-102.2151 80.1744,-100.4265 78.5536,-98.6705\"/>\n",
       "<polygon fill=\"#c0c0c0\" stroke=\"#c0c0c0\" points=\"79.1797,-97.8008 76.3733,-96.3086 77.6366,-99.2252 79.1797,-97.8008\"/>\n",
       "</g>\n",
       "<!-- 4381295952 -->\n",
       "<g id=\"node7\" class=\"node\">\n",
       "<title>4381295952</title>\n",
       "<polygon fill=\"#dbdb8d\" stroke=\"transparent\" points=\"161.471,-96 104.0905,-96 104.0905,-78 161.471,-78 161.471,-96\"/>\n",
       "<text text-anchor=\"middle\" x=\"132.7808\" y=\"-84\" font-family=\"sans\" font-size=\"10.00\" fill=\"#000000\">Item.date</text>\n",
       "</g>\n",
       "<!-- 4381295392&#45;&gt;4381295952 -->\n",
       "<g id=\"edge2\" class=\"edge\">\n",
       "<title>4381295392&#45;&gt;4381295952</title>\n",
       "<path fill=\"none\" stroke=\"#c0c0c0\" d=\"M106.1206,-103.9065C109.2236,-101.9387 112.5342,-99.8393 115.7297,-97.8129\"/>\n",
       "<polygon fill=\"#c0c0c0\" stroke=\"#c0c0c0\" points=\"116.4085,-98.6258 118.3797,-96.1324 115.2839,-96.8523 116.4085,-98.6258\"/>\n",
       "</g>\n",
       "<!-- 4381295896 -->\n",
       "<g id=\"node3\" class=\"node\">\n",
       "<title>4381295896</title>\n",
       "<polygon fill=\"#dbdb8d\" stroke=\"transparent\" points=\"89.5693,-70 35.9923,-70 35.9923,-52 89.5693,-52 89.5693,-70\"/>\n",
       "<text text-anchor=\"middle\" x=\"62.7808\" y=\"-58\" font-family=\"sans\" font-size=\"10.00\" fill=\"#000000\">Item.title</text>\n",
       "</g>\n",
       "<!-- 4381295784&#45;&gt;4381295896 -->\n",
       "<g id=\"edge3\" class=\"edge\">\n",
       "<title>4381295784&#45;&gt;4381295896</title>\n",
       "<path fill=\"none\" stroke=\"#c0c0c0\" d=\"M66.032,-77.9065C65.7659,-76.5226 65.4872,-75.0737 65.2098,-73.6308\"/>\n",
       "<polygon fill=\"#c0c0c0\" stroke=\"#c0c0c0\" points=\"66.1686,-73.0563 64.5709,-70.3086 64.1064,-73.4529 66.1686,-73.0563\"/>\n",
       "</g>\n",
       "<!-- 4381355312 -->\n",
       "<g id=\"node4\" class=\"node\">\n",
       "<title>4381355312</title>\n",
       "<polygon fill=\"#eeeeee\" stroke=\"transparent\" points=\"21.3467,-44 .2149,-44 .2149,-26 21.3467,-26 21.3467,-44\"/>\n",
       "<text text-anchor=\"middle\" x=\"10.7808\" y=\"-32\" font-family=\"sans\" font-size=\"10.00\" fill=\"#000000\">«</text>\n",
       "</g>\n",
       "<!-- 4381295896&#45;&gt;4381355312 -->\n",
       "<g id=\"edge4\" class=\"edge\">\n",
       "<title>4381295896&#45;&gt;4381355312</title>\n",
       "<path fill=\"none\" stroke=\"#c0c0c0\" d=\"M41.8427,-51.8646C36.5461,-49.4218 30.9075,-46.7053 25.7808,-44 25.257,-43.7236 24.726,-43.4371 24.1919,-43.1437\"/>\n",
       "<polygon fill=\"#c0c0c0\" stroke=\"#c0c0c0\" points=\"24.6435,-42.1929 21.5148,-41.6328 23.6114,-44.0217 24.6435,-42.1929\"/>\n",
       "</g>\n",
       "<!-- 4381355424 -->\n",
       "<g id=\"node5\" class=\"node\">\n",
       "<title>4381355424</title>\n",
       "<polygon fill=\"#eeeeee\" stroke=\"transparent\" points=\"85.4539,-44 22.1077,-44 22.1077,-26 85.4539,-26 85.4539,-44\"/>\n",
       "<text text-anchor=\"middle\" x=\"53.7808\" y=\"-32\" font-family=\"sans\" font-size=\"10.00\" fill=\"#000000\">Каштанка</text>\n",
       "</g>\n",
       "<!-- 4381295896&#45;&gt;4381355424 -->\n",
       "<g id=\"edge5\" class=\"edge\">\n",
       "<title>4381295896&#45;&gt;4381355424</title>\n",
       "<path fill=\"none\" stroke=\"#c0c0c0\" d=\"M59.633,-51.9065C59.1008,-50.3689 58.5407,-48.7509 57.9866,-47.1502\"/>\n",
       "<polygon fill=\"#c0c0c0\" stroke=\"#c0c0c0\" points=\"58.9766,-46.8 57.003,-44.3086 56.9921,-47.487 58.9766,-46.8\"/>\n",
       "</g>\n",
       "<!-- 4381355480 -->\n",
       "<g id=\"node6\" class=\"node\">\n",
       "<title>4381355480</title>\n",
       "<polygon fill=\"#eeeeee\" stroke=\"transparent\" points=\"107.3467,-44 86.2149,-44 86.2149,-26 107.3467,-26 107.3467,-44\"/>\n",
       "<text text-anchor=\"middle\" x=\"96.7808\" y=\"-32\" font-family=\"sans\" font-size=\"10.00\" fill=\"#000000\">»</text>\n",
       "</g>\n",
       "<!-- 4381295896&#45;&gt;4381355480 -->\n",
       "<g id=\"edge6\" class=\"edge\">\n",
       "<title>4381295896&#45;&gt;4381355480</title>\n",
       "<path fill=\"none\" stroke=\"#c0c0c0\" d=\"M74.6723,-51.9065C77.5448,-49.7099 80.6317,-47.3493 83.5609,-45.1093\"/>\n",
       "<polygon fill=\"#c0c0c0\" stroke=\"#c0c0c0\" points=\"84.231,-45.9188 85.9762,-43.2623 82.9553,-44.2506 84.231,-45.9188\"/>\n",
       "</g>\n",
       "<!-- 4381296064 -->\n",
       "<g id=\"node8\" class=\"node\">\n",
       "<title>4381296064</title>\n",
       "<polygon fill=\"#dbdb8d\" stroke=\"transparent\" points=\"155.404,-70 118.1575,-70 118.1575,-52 155.404,-52 155.404,-70\"/>\n",
       "<text text-anchor=\"middle\" x=\"136.7808\" y=\"-58\" font-family=\"sans\" font-size=\"10.00\" fill=\"#000000\">Date</text>\n",
       "</g>\n",
       "<!-- 4381295952&#45;&gt;4381296064 -->\n",
       "<g id=\"edge7\" class=\"edge\">\n",
       "<title>4381295952&#45;&gt;4381296064</title>\n",
       "<path fill=\"none\" stroke=\"#c0c0c0\" d=\"M134.1798,-77.9065C134.3927,-76.5226 134.6156,-75.0737 134.8376,-73.6308\"/>\n",
       "<polygon fill=\"#c0c0c0\" stroke=\"#c0c0c0\" points=\"135.9302,-73.4334 135.3487,-70.3086 133.8546,-73.114 135.9302,-73.4334\"/>\n",
       "</g>\n",
       "<!-- 4381296120 -->\n",
       "<g id=\"node9\" class=\"node\">\n",
       "<title>4381296120</title>\n",
       "<polygon fill=\"#dbdb8d\" stroke=\"transparent\" points=\"164.8052,-44 108.7563,-44 108.7563,-26 164.8052,-26 164.8052,-44\"/>\n",
       "<text text-anchor=\"middle\" x=\"136.7808\" y=\"-32\" font-family=\"sans\" font-size=\"10.00\" fill=\"#000000\">Date.day</text>\n",
       "</g>\n",
       "<!-- 4381296064&#45;&gt;4381296120 -->\n",
       "<g id=\"edge8\" class=\"edge\">\n",
       "<title>4381296064&#45;&gt;4381296120</title>\n",
       "<path fill=\"none\" stroke=\"#c0c0c0\" d=\"M136.7808,-51.9065C136.7808,-50.5226 136.7808,-49.0737 136.7808,-47.6308\"/>\n",
       "<polygon fill=\"#c0c0c0\" stroke=\"#c0c0c0\" points=\"137.8309,-47.3085 136.7808,-44.3086 135.7309,-47.3086 137.8309,-47.3085\"/>\n",
       "</g>\n",
       "<!-- 4381296176 -->\n",
       "<g id=\"node11\" class=\"node\">\n",
       "<title>4381296176</title>\n",
       "<polygon fill=\"#dbdb8d\" stroke=\"transparent\" points=\"233.4758,-44 166.0857,-44 166.0857,-26 233.4758,-26 233.4758,-44\"/>\n",
       "<text text-anchor=\"middle\" x=\"199.7808\" y=\"-32\" font-family=\"sans\" font-size=\"10.00\" fill=\"#000000\">Date.month</text>\n",
       "</g>\n",
       "<!-- 4381296064&#45;&gt;4381296176 -->\n",
       "<g id=\"edge9\" class=\"edge\">\n",
       "<title>4381296064&#45;&gt;4381296176</title>\n",
       "<path fill=\"none\" stroke=\"#c0c0c0\" d=\"M155.6828,-53.1991C161.6631,-50.7311 168.3687,-47.9637 174.7111,-45.3462\"/>\n",
       "<polygon fill=\"#c0c0c0\" stroke=\"#c0c0c0\" points=\"175.4181,-46.1904 177.7906,-44.0753 174.6169,-44.2492 175.4181,-46.1904\"/>\n",
       "</g>\n",
       "<!-- 4381355704 -->\n",
       "<g id=\"node10\" class=\"node\">\n",
       "<title>4381355704</title>\n",
       "<polygon fill=\"#eeeeee\" stroke=\"transparent\" points=\"150.4041,-18 123.1574,-18 123.1574,0 150.4041,0 150.4041,-18\"/>\n",
       "<text text-anchor=\"middle\" x=\"136.7808\" y=\"-6\" font-family=\"sans\" font-size=\"10.00\" fill=\"#000000\">18</text>\n",
       "</g>\n",
       "<!-- 4381296120&#45;&gt;4381355704 -->\n",
       "<g id=\"edge10\" class=\"edge\">\n",
       "<title>4381296120&#45;&gt;4381355704</title>\n",
       "<path fill=\"none\" stroke=\"#c0c0c0\" d=\"M136.7808,-25.9065C136.7808,-24.5226 136.7808,-23.0737 136.7808,-21.6308\"/>\n",
       "<polygon fill=\"#c0c0c0\" stroke=\"#c0c0c0\" points=\"137.8309,-21.3085 136.7808,-18.3086 135.7309,-21.3086 137.8309,-21.3085\"/>\n",
       "</g>\n",
       "<!-- 4381355816 -->\n",
       "<g id=\"node12\" class=\"node\">\n",
       "<title>4381355816</title>\n",
       "<polygon fill=\"#eeeeee\" stroke=\"transparent\" points=\"220.0373,-18 179.5242,-18 179.5242,0 220.0373,0 220.0373,-18\"/>\n",
       "<text text-anchor=\"middle\" x=\"199.7808\" y=\"-6\" font-family=\"sans\" font-size=\"10.00\" fill=\"#000000\">июня</text>\n",
       "</g>\n",
       "<!-- 4381296176&#45;&gt;4381355816 -->\n",
       "<g id=\"edge11\" class=\"edge\">\n",
       "<title>4381296176&#45;&gt;4381355816</title>\n",
       "<path fill=\"none\" stroke=\"#c0c0c0\" d=\"M199.7808,-25.9065C199.7808,-24.5226 199.7808,-23.0737 199.7808,-21.6308\"/>\n",
       "<polygon fill=\"#c0c0c0\" stroke=\"#c0c0c0\" points=\"200.8309,-21.3085 199.7808,-18.3086 198.7309,-21.3086 200.8309,-21.3085\"/>\n",
       "</g>\n",
       "</g>\n",
       "</svg>\n"
      ],
      "text/plain": [
       "Graph([Node(4381295392, style({'fillcolor': '#dbdb8d', 'label': 'Item'})),\n",
       "       Node(4381295784, style({'fillcolor': '#dbdb8d', 'label': 'Item'})),\n",
       "       Node(4381295896,\n",
       "            style({'fillcolor': '#dbdb8d', 'label': 'Item.title'})),\n",
       "       Node(4381355312, style({'label': '«'})),\n",
       "       Node(4381355424, style({'label': 'Каштанка'})),\n",
       "       Node(4381355480, style({'label': '»'})),\n",
       "       Node(4381295952, style({'fillcolor': '#dbdb8d', 'label': 'Item.date'})),\n",
       "       Node(4381296064, style({'fillcolor': '#dbdb8d', 'label': 'Date'})),\n",
       "       Node(4381296120, style({'fillcolor': '#dbdb8d', 'label': 'Date.day'})),\n",
       "       Node(4381355704, style({'label': 18})),\n",
       "       Node(4381296176,\n",
       "            style({'fillcolor': '#dbdb8d', 'label': 'Date.month'})),\n",
       "       Node(4381355816, style({'label': 'июня'}))],\n",
       "      [Edge(4381295392, 4381295784),\n",
       "       Edge(4381295392, 4381295952),\n",
       "       Edge(4381295784, 4381295896),\n",
       "       Edge(4381295896, 4381355312),\n",
       "       Edge(4381295896, 4381355424),\n",
       "       Edge(4381295896, 4381355480),\n",
       "       Edge(4381295952, 4381296064),\n",
       "       Edge(4381296064, 4381296120),\n",
       "       Edge(4381296064, 4381296176),\n",
       "       Edge(4381296120, 4381355704),\n",
       "       Edge(4381296176, 4381355816)])"
      ]
     },
     "execution_count": 21,
     "metadata": {},
     "output_type": "execute_result"
    }
   ],
   "source": [
    "from yargy import forward, or_\n",
    "\n",
    "Item = fact(\n",
    "    'Item',\n",
    "    ['title', 'date']\n",
    ")\n",
    "\n",
    "ITEM = forward().interpretation(\n",
    "    Item\n",
    ")\n",
    "ITEM.define(or_(\n",
    "    TITLE.interpretation(\n",
    "        Item.title\n",
    "    ),\n",
    "    rule(ITEM, TITLE),\n",
    "    rule(\n",
    "        ITEM,\n",
    "        DATE.interpretation(\n",
    "            Item.date\n",
    "        )\n",
    "    )\n",
    "))\n",
    "\n",
    "parser = Parser(ITEM)\n",
    "text = '«Каштанка» 18 июня'\n",
    "match = next(parser.match(text))\n",
    "match.tree.normalized.as_dot"
   ]
  },
  {
   "cell_type": "markdown",
   "metadata": {},
   "source": [
    "В ходе интерпретации появится два объекта: `Item(title='«Каштанка»', date=None)` и `Item(title=None, date=Date(18, 'июня'))`. В конце произойдёт слияние:"
   ]
  },
  {
   "cell_type": "code",
   "execution_count": 22,
   "metadata": {},
   "outputs": [
    {
     "data": {
      "text/plain": [
       "Item(title='«Каштанка»',\n",
       "     date=Date(year=2017,\n",
       "               month='июня',\n",
       "               day=18))"
      ]
     },
     "execution_count": 22,
     "metadata": {},
     "output_type": "execute_result"
    }
   ],
   "source": [
    "match.fact"
   ]
  },
  {
   "cell_type": "raw",
   "metadata": {},
   "source": [
    ".. _normalization:"
   ]
  },
  {
   "cell_type": "markdown",
   "metadata": {},
   "source": [
    "## Нормализация"
   ]
  },
  {
   "cell_type": "markdown",
   "metadata": {},
   "source": [
    "ТОДО про normalized , про raw, про то, что не только для атрибутов можно указывать, что если несколько токенов под атрибутом, про аргументы в inflected"
   ]
  },
  {
   "cell_type": "raw",
   "metadata": {},
   "source": [
    ".. _relation:"
   ]
  },
  {
   "cell_type": "markdown",
   "metadata": {},
   "source": [
    "## Согласование "
   ]
  },
  {
   "cell_type": "markdown",
   "metadata": {},
   "source": [
    "ТОДО список case_relation, number_relation .. несколько согласований в одной грамматике , согласование не только токенов"
   ]
  }
 ],
 "metadata": {
  "kernelspec": {
   "display_name": "b-labs",
   "language": "python",
   "name": "b-labs"
  },
  "language_info": {
   "codemirror_mode": {
    "name": "ipython",
    "version": 3
   },
   "file_extension": ".py",
   "mimetype": "text/x-python",
   "name": "python",
   "nbconvert_exporter": "python",
   "pygments_lexer": "ipython3",
   "version": "3.5.1"
  }
 },
 "nbformat": 4,
 "nbformat_minor": 2
}
